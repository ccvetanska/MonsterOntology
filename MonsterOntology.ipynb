{
 "cells": [
  {
   "cell_type": "code",
   "execution_count": 1,
   "metadata": {},
   "outputs": [],
   "source": [
    "from owlready2 import *\n",
    "\n",
    "onto = get_ontology(\"http://example.org/MonsterOntology.owl\")\n",
    "\n",
    "with onto:\n",
    "    class WitcherThing(Thing): pass\n",
    "    class Monster(WitcherThing): pass\n",
    "\n",
    "    class Vampires(Monster): pass\n",
    "    class Relicts(Monster): pass\n",
    "    class Specters(Monster): pass\n",
    "    class Necrophages(Monster): pass\n",
    "    class Beasts(Monster): pass\n",
    "    class CursedOnes(Monster): pass\n",
    "    class Hybrids(Monster): pass\n",
    "    class Insectoids(Monster): pass\n",
    "    class Elementa(Monster): pass\n",
    "    class Draconids(Monster): pass\n",
    "    class Ogroids(Monster): pass\n",
    "\n",
    "    class Habitat(WitcherThing): pass\n",
    "    class Cave(Habitat): pass\n",
    "    class Forest(Habitat): pass\n",
    "    class Ruins(Habitat): pass\n",
    "\n",
    "    class Loot(WitcherThing): pass\n",
    "    class RelicItem(Loot): pass\n",
    "    class MasterItem(Loot): pass\n",
    "    class MagicItem(Loot): pass\n",
    "    class CommonItem(Loot): pass\n",
    "\n",
    "    class WitcherArsenal(WitcherThing): pass\n",
    "\n",
    "    class Oil(WitcherArsenal): pass\n",
    "    class VampireOil(Oil): pass\n",
    "\n",
    "    class Bomb(WitcherArsenal): pass\n",
    "    class DancingStar(Bomb): pass\n",
    "\n",
    "    class Sign(WitcherArsenal): pass\n",
    "    class Igni(Sign): pass\n",
    "    class Axii(Sign): pass\n",
    "\n",
    "    class Sword(WitcherArsenal): pass \n",
    "    class Material(WitcherThing): pass\n",
    "    silver = Material()\n",
    "    steel = Material()\n",
    "    \n",
    "    Material.is_a.append(OneOf([silver, steel]))\n",
    "\n",
    "    class HasMaterial(WitcherArsenal >> Material): pass\n",
    "\n",
    "    class silverSword (WitcherThing): \n",
    "        equivalent_to = [\n",
    "            WitcherArsenal &\n",
    "            Sword &\n",
    "            HasMaterial.value(silver) \n",
    "        ]\n",
    "\n",
    "    class steelSword (WitcherThing): \n",
    "        equivalent_to = [\n",
    "            WitcherArsenal &\n",
    "            Sword &\n",
    "            HasMaterial.value(steel) \n",
    "        ]\n",
    "\n",
    "    class Weakness(WitcherThing): pass\n",
    "    class MaterialWeakness(WitcherThing): \n",
    "        equivalent_to=[\n",
    "            Weakness &\n",
    "            HasMaterial.value(OneOf([silver,steel]))\n",
    "        ]\n",
    "\n",
    "    class SilverWeakness(WitcherThing):\n",
    "        equivalent_to = [\n",
    "            MaterialWeakness &\n",
    "            HasMaterial.only(silver)\n",
    "        ] \n",
    "\n",
    "    class SteelWeakness(WitcherThing):\n",
    "        equivalent_to = [\n",
    "            MaterialWeakness &\n",
    "            HasMaterial.only(steel)\n",
    "        ] \n",
    "\n",
    "    silverWeakness = SilverWeakness()\n",
    "    steelWeakness = SteelWeakness()\n",
    "\n",
    "    class HasHabitat(Monster >> Habitat, FunctionalProperty): pass\n",
    "    class HasWeakness(Monster >> Weakness, TransitiveProperty): pass\n",
    "    class DropsLoot(Monster >> Loot): pass\n",
    "    class HasPrice(Loot >> int): pass\n"
   ]
  },
  {
   "cell_type": "code",
   "execution_count": 2,
   "metadata": {},
   "outputs": [],
   "source": [
    "with onto:    \n",
    "        \n",
    "    class HighValueLoot(WitcherThing):\n",
    "        equivalent_to =[\n",
    "            Loot &\n",
    "            HasPrice.only(OneOf(list(range(100, 199))))\n",
    "        ]\n",
    "\n",
    "    class LowValueLoot(WitcherThing):\n",
    "        equivalent_to =[\n",
    "            Loot &\n",
    "            HasPrice.only(OneOf(list(range(0, 99))))\n",
    "        ]\n",
    "\n",
    "    class HighValueLootMonster(WitcherThing):\n",
    "        equivalent_to =[\n",
    "            Monster &\n",
    "            DropsLoot.min(1, HighValueLoot)\n",
    "        ]\n",
    "\n",
    "    class LowValueLootMonster(WitcherThing):\n",
    "        equivalent_to=[\n",
    "            Monster &\n",
    "            DropsLoot.min(1, LowValueLoot)\n",
    "        ]\n",
    "\n",
    "    class CommonLootMonster(WitcherThing):\n",
    "        equivalent_to=[\n",
    "            Monster &\n",
    "            DropsLoot.min(1, CommonItem)\n",
    "        ]\n",
    "\n",
    "    class MagicLootMonster(WitcherThing):\n",
    "        equivalent_to=[\n",
    "            Monster &\n",
    "            DropsLoot.min(1, MagicItem)\n",
    "        ]\n"
   ]
  },
  {
   "cell_type": "code",
   "execution_count": 3,
   "metadata": {},
   "outputs": [],
   "source": [
    "with onto:\n",
    "    alghoulBoneMarrow = MasterItem()\n",
    "    alghoulBoneMarrow.HasPrice = [30]\n",
    "\n",
    "    basiliskHide = MagicItem()\n",
    "    basiliskHide.HasPrice = [544]\n",
    "\n",
    "    basiliskVenom = MasterItem()\n",
    "    basiliskVenom.HasPrice = [45]\n",
    "\n",
    "    vampireFang = MagicItem()\n",
    "    vampireFang.HasPrice = [105]\n",
    "\n",
    "    leshenResin = MagicItem()\n",
    "    leshenResin.HasPrice = [51]\n",
    "\n",
    "    vampireBlood = MagicItem()\n",
    "    vampireBlood.HasPrice = [45]\n",
    "\n",
    "    vampireSaliva = MasterItem()\n",
    "    vampireSaliva.HasPrice = [31]\n",
    "\n",
    "    ekimmaraHide = MasterItem()\n",
    "    ekimmaraHide.HasPrice = [294]\n",
    "\n",
    "    specterDust = MasterItem()\n",
    "    specterDust.HasPrice = [35]\n",
    "\n",
    "    wolfsLiver = CommonItem()\n",
    "    wolfsLiver.HasPrice = [10]\n",
    "\n",
    "    ekimmaraHide = MasterItem()\n",
    "    ekimmaraHide.HasPrice = [100]\n",
    "\n",
    "    griffinFeathers = MagicItem()\n",
    "    griffinFeathers.HasPrice = [60]\n",
    "\n",
    "    griffinsEgg = MasterItem()\n",
    "    griffinsEgg.HasPrice = [65]\n",
    "    \n",
    "    wyvernEgg = MagicItem()\n",
    "    wyvernEgg.HasPrice = [604]\n"
   ]
  },
  {
   "cell_type": "code",
   "execution_count": 4,
   "metadata": {},
   "outputs": [],
   "source": [
    "with onto:\n",
    "    ekimmara = Vampires(\"Ekimmara\")\n",
    "    ekimmara.HasWeakness.append(silverWeakness)\n",
    "    ekimmara.HasHabitat = Cave()\n",
    "    ekimmara.DropsLoot.append(vampireFang)\n",
    "    ekimmara.DropsLoot.append(ekimmaraHide)\n",
    "\n",
    "    leshen = Relicts(\"Leshen\")\n",
    "    leshen.HasWeakness.append(silverWeakness)\n",
    "    leshen.HasHabitat = Forest()\n",
    "    leshen.DropsLoot.append(leshenResin)\n",
    "\n",
    "    noonwraith = Specters(\"Noonwraith\")\n",
    "    noonwraith.HasWeakness.append(silverWeakness)\n",
    "    noonwraith.HasHabitat = Ruins()\n",
    "    noonwraith.DropsLoot.append(specterDust)\n",
    "\n",
    "    griffin = Hybrids(\"Griffin\")    \n",
    "    griffin.HasWeakness.append(silverWeakness)\n",
    "    griffin.HasHabitat = Ruins()\n",
    "    griffin.DropsLoot.append(griffinFeathers)\n",
    "    griffin.DropsLoot.append(griffinsEgg)\n",
    "\n",
    "    wolf = Beasts(\"Wolf\")\n",
    "    wolf.HasWeakness.append(steelWeakness)\n",
    "    wolf.HasHabitat = Forest()\n",
    "    wolf.DropsLoot.append(wolfsLiver)"
   ]
  },
  {
   "cell_type": "code",
   "execution_count": 5,
   "metadata": {},
   "outputs": [],
   "source": [
    "onto.save(file = \"MonsterOntology.owl\", format = \"rdfxml\")"
   ]
  },
  {
   "cell_type": "code",
   "execution_count": 6,
   "metadata": {},
   "outputs": [
    {
     "name": "stdout",
     "output_type": "stream",
     "text": [
      "[]\n"
     ]
    }
   ],
   "source": [
    "print(list(onto.inconsistent_classes()))"
   ]
  },
  {
   "cell_type": "markdown",
   "metadata": {},
   "source": [
    "# Subsumption"
   ]
  },
  {
   "cell_type": "code",
   "execution_count": 7,
   "metadata": {},
   "outputs": [
    {
     "name": "stdout",
     "output_type": "stream",
     "text": [
      "Oil\n",
      "DancingStar\n",
      "Axii\n",
      "Sword\n",
      "WitcherArsenal\n",
      "Sign\n",
      "Igni\n",
      "Bomb\n",
      "VampireOil\n"
     ]
    }
   ],
   "source": [
    "for subclass in WitcherArsenal.descendants():\n",
    "    print(subclass.name)"
   ]
  },
  {
   "cell_type": "code",
   "execution_count": 8,
   "metadata": {},
   "outputs": [
    {
     "name": "stderr",
     "output_type": "stream",
     "text": [
      "* Owlready2 * Running HermiT...\n",
      "    java -Xmx2000M -cp c:\\fmi-projects\\MonsterOntology\\.venv\\Lib\\site-packages\\owlready2\\hermit;c:\\fmi-projects\\MonsterOntology\\.venv\\Lib\\site-packages\\owlready2\\hermit\\HermiT.jar org.semanticweb.HermiT.cli.CommandLine -c -O -D -I file:///C:/Users/CCVETA~1/AppData/Local/Temp/tmp6a253w13\n"
     ]
    },
    {
     "name": "stderr",
     "output_type": "stream",
     "text": [
      "* Owlready2 * HermiT took 4.1548027992248535 seconds\n",
      "* Owlready * Reparenting MonsterOntology.MagicLootMonster: {MonsterOntology.WitcherThing} => {MonsterOntology.Monster}\n",
      "* Owlready * Reparenting MonsterOntology.HighValueLootMonster: {MonsterOntology.WitcherThing} => {MonsterOntology.Monster}\n",
      "* Owlready * Reparenting MonsterOntology.CommonLootMonster: {MonsterOntology.WitcherThing} => {MonsterOntology.Monster}\n",
      "* Owlready * Reparenting MonsterOntology.LowValueLootMonster: {MonsterOntology.WitcherThing} => {MonsterOntology.Monster}\n",
      "* Owlready * Reparenting MonsterOntology.MaterialWeakness: {MonsterOntology.WitcherThing} => {MonsterOntology.WitcherArsenal, MonsterOntology.Weakness}\n",
      "* Owlready * Reparenting MonsterOntology.SteelWeakness: {MonsterOntology.WitcherThing} => {MonsterOntology.MaterialWeakness}\n",
      "* Owlready * Reparenting MonsterOntology.SilverWeakness: {MonsterOntology.WitcherThing} => {MonsterOntology.MaterialWeakness}\n",
      "* Owlready * Reparenting MonsterOntology.LowValueLoot: {MonsterOntology.WitcherThing} => {MonsterOntology.Loot}\n",
      "* Owlready * Reparenting MonsterOntology.HighValueLoot: {MonsterOntology.WitcherThing} => {MonsterOntology.Loot}\n",
      "* Owlready * Reparenting MonsterOntology.steelSword: {MonsterOntology.WitcherThing} => {MonsterOntology.Sword}\n",
      "* Owlready * Reparenting MonsterOntology.silverSword: {MonsterOntology.WitcherThing} => {MonsterOntology.Sword}\n",
      "* Owlready * Reparenting MonsterOntology.Wolf: {MonsterOntology.Beasts} => {MonsterOntology.CommonLootMonster, MonsterOntology.Beasts}\n",
      "* Owlready * (NB: only changes on entities loaded in Python are shown, other changes are done but not listed)\n"
     ]
    }
   ],
   "source": [
    "with onto:\n",
    "    sync_reasoner()"
   ]
  },
  {
   "cell_type": "code",
   "execution_count": 9,
   "metadata": {},
   "outputs": [
    {
     "name": "stdout",
     "output_type": "stream",
     "text": [
      "Oil\n",
      "steelSword\n",
      "DancingStar\n",
      "Axii\n",
      "Sword\n",
      "MaterialWeakness\n",
      "WitcherArsenal\n",
      "silverSword\n",
      "SteelWeakness\n",
      "SilverWeakness\n",
      "Sign\n",
      "Igni\n",
      "Bomb\n",
      "VampireOil\n"
     ]
    }
   ],
   "source": [
    "for subclass in WitcherArsenal.descendants():\n",
    "    print(subclass.name)"
   ]
  },
  {
   "cell_type": "markdown",
   "metadata": {},
   "source": [
    "# Classification"
   ]
  },
  {
   "cell_type": "code",
   "execution_count": 10,
   "metadata": {},
   "outputs": [],
   "source": [
    "with onto:\n",
    "    class MasterLootMonster(WitcherThing):\n",
    "        equivalent_to =[\n",
    "            Monster &\n",
    "            DropsLoot.min(1, MasterItem)\n",
    "        ]"
   ]
  },
  {
   "cell_type": "code",
   "execution_count": 11,
   "metadata": {},
   "outputs": [
    {
     "name": "stdout",
     "output_type": "stream",
     "text": [
      "[MonsterOntology.WitcherThing]\n"
     ]
    }
   ],
   "source": [
    "print(onto.get_parents_of(MasterLootMonster))"
   ]
  },
  {
   "cell_type": "code",
   "execution_count": 12,
   "metadata": {},
   "outputs": [
    {
     "name": "stdout",
     "output_type": "stream",
     "text": [
      "[]\n"
     ]
    }
   ],
   "source": [
    "print(onto.get_children_of(MasterLootMonster))"
   ]
  },
  {
   "cell_type": "code",
   "execution_count": 13,
   "metadata": {},
   "outputs": [
    {
     "name": "stderr",
     "output_type": "stream",
     "text": [
      "* Owlready2 * Running HermiT...\n",
      "    java -Xmx2000M -cp c:\\fmi-projects\\MonsterOntology\\.venv\\Lib\\site-packages\\owlready2\\hermit;c:\\fmi-projects\\MonsterOntology\\.venv\\Lib\\site-packages\\owlready2\\hermit\\HermiT.jar org.semanticweb.HermiT.cli.CommandLine -c -O -D -I file:///C:/Users/CCVETA~1/AppData/Local/Temp/tmpnih4yz6u\n",
      "* Owlready2 * HermiT took 3.515625 seconds\n",
      "* Owlready * Reparenting MonsterOntology.MasterLootMonster: {MonsterOntology.WitcherThing} => {MonsterOntology.Monster}\n",
      "* Owlready * (NB: only changes on entities loaded in Python are shown, other changes are done but not listed)\n"
     ]
    }
   ],
   "source": [
    "with onto:\n",
    "    sync_reasoner()"
   ]
  },
  {
   "cell_type": "code",
   "execution_count": 14,
   "metadata": {},
   "outputs": [
    {
     "name": "stdout",
     "output_type": "stream",
     "text": [
      "[MonsterOntology.WitcherThing, MonsterOntology.Monster]\n"
     ]
    }
   ],
   "source": [
    "print(onto.get_parents_of(MasterLootMonster))"
   ]
  },
  {
   "cell_type": "code",
   "execution_count": 15,
   "metadata": {},
   "outputs": [
    {
     "name": "stdout",
     "output_type": "stream",
     "text": [
      "[]\n"
     ]
    }
   ],
   "source": [
    "print(onto.get_children_of(MasterLootMonster))"
   ]
  },
  {
   "cell_type": "code",
   "execution_count": 16,
   "metadata": {},
   "outputs": [
    {
     "name": "stdout",
     "output_type": "stream",
     "text": [
      "MasterLootMonster\n"
     ]
    }
   ],
   "source": [
    "for subclass in MasterLootMonster.descendants():\n",
    "    print(subclass.name)"
   ]
  }
 ],
 "metadata": {
  "kernelspec": {
   "display_name": "dlenv",
   "language": "python",
   "name": "python3"
  },
  "language_info": {
   "codemirror_mode": {
    "name": "ipython",
    "version": 3
   },
   "file_extension": ".py",
   "mimetype": "text/x-python",
   "name": "python",
   "nbconvert_exporter": "python",
   "pygments_lexer": "ipython3",
   "version": "3.12.7"
  }
 },
 "nbformat": 4,
 "nbformat_minor": 2
}
