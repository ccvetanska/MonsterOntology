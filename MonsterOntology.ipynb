{
 "cells": [
  {
   "cell_type": "code",
   "execution_count": 4,
   "metadata": {},
   "outputs": [],
   "source": [
    "from owlready2 import *\n",
    "\n",
    "onto = get_ontology(\"http://example.org/MonsterOntology.owl\")\n",
    "\n",
    "with onto:\n",
    "    class Monster(Thing): pass\n",
    "\n",
    "    class Vampires(Monster): pass\n",
    "    class Relicts(Monster): pass\n",
    "    class Specters(Monster): pass\n",
    "    class Necrophages(Monster): pass\n",
    "    class Beasts(Monster): pass\n",
    "    class CursedOnes(Monster): pass\n",
    "    class Hybrids(Monster): pass\n",
    "    class Insectoids(Monster): pass\n",
    "    class Elementa(Monster): pass\n",
    "    class Draconids(Monster): pass\n",
    "    class Ogroids(Monster): pass\n",
    "\n",
    "    class Habitat(Thing): pass\n",
    "    class Cave(Habitat): pass\n",
    "    class Forest(Habitat): pass\n",
    "    class Ruins(Habitat): pass\n",
    "\n",
    "    class Loot(Thing): pass\n",
    "    class RelicItem(Loot): pass\n",
    "    class MasterItem(Loot): pass\n",
    "    class MagicItem(Loot): pass\n",
    "    class CommonItem(Loot): pass\n",
    "\n",
    "    class WitcherArsenal(Thing): pass\n",
    "\n",
    "    class Oil(WitcherArsenal): pass\n",
    "\n",
    "    class Bomb(WitcherArsenal): pass\n",
    "\n",
    "    class Sign(WitcherArsenal): pass\n",
    "\n",
    "    class Sword(WitcherArsenal): pass \n",
    "    class Material(Thing): pass\n",
    "    silver = Material()\n",
    "    steel = Material()\n",
    "    \n",
    "    Material.is_a.append(OneOf([silver, steel]))\n",
    "\n",
    "    class hasMaterial(WitcherArsenal >> int): pass\n",
    "\n",
    "    class silverSword (Thing): \n",
    "        equivalent_to = [\n",
    "            WitcherArsenal &\n",
    "            Sword &\n",
    "            hasMaterial.value(silver) \n",
    "        ]\n",
    "\n",
    "    class steelSword (Thing): \n",
    "        equivalent_to = [\n",
    "            WitcherArsenal &\n",
    "            Sword &\n",
    "            hasMaterial.value(steel) \n",
    "        ]\n",
    "\n",
    "    class Weakness(Thing): pass\n",
    "    class MaterialWeakness(Thing): \n",
    "        equivalent_to=[\n",
    "            Weakness &\n",
    "            hasMaterial.value(OneOf([silver,steel]))\n",
    "        ]\n",
    "\n",
    "    class SilverWeakness(Thing):\n",
    "        equivalent_to = [\n",
    "            MaterialWeakness &\n",
    "            hasMaterial.value(silver)\n",
    "        ] \n",
    "\n",
    "    class SteelWeakness(Thing):\n",
    "        equivalent_to = [\n",
    "            MaterialWeakness &\n",
    "            hasMaterial.value(steel)\n",
    "        ] \n",
    "\n",
    "    silverWeakness = SilverWeakness()\n",
    "    steelWeakness = SteelWeakness()\n",
    "\n",
    "    class HasHabitat(Monster >> Habitat, FunctionalProperty): pass\n",
    "    class HasWeakness(Monster >> Weakness): pass\n",
    "    class DropsLoot(Monster >> Loot): pass\n",
    "\n",
    "    class HasPrice(Loot >> int, FunctionalProperty): pass\n"
   ]
  },
  {
   "cell_type": "code",
   "execution_count": 5,
   "metadata": {},
   "outputs": [],
   "source": [
    "with onto:    \n",
    "        \n",
    "    class HighValueLoot(Thing):\n",
    "        equivalent_to =[\n",
    "            Loot &\n",
    "            HasPrice.only(OneOf(list(range(300, 399))))\n",
    "        ]\n",
    "\n",
    "    class LowValueLoot(Thing):\n",
    "        equivalent_to =[\n",
    "            Loot &\n",
    "            HasPrice.only(OneOf(list(range(0, 299))))\n",
    "        ]\n",
    "\n",
    "    class HighValueLootMonster(Thing):\n",
    "        equivalent_to =[\n",
    "            Monster &\n",
    "            DropsLoot.min(1, HighValueLoot)\n",
    "        ]\n",
    "\n",
    "    class LowValueLootMonster(Thing):\n",
    "        equivalent_to=[\n",
    "            Monster&\n",
    "            DropsLoot.min(1, LowValueLoot)\n",
    "        ]\n",
    "\n",
    "    class CommonLootMonster(Thing):\n",
    "        equivalent_to=[\n",
    "            Monster &\n",
    "            DropsLoot.min(1, CommonItem)\n",
    "        ]\n",
    "\n",
    "    class MagicLootMonster(Thing):\n",
    "        equivalent_to=[\n",
    "            Monster &\n",
    "            DropsLoot.min(1, MagicItem)\n",
    "        ]\n",
    "\n",
    "    class MasterLootMonster(Thing):\n",
    "        equivalent_to =[\n",
    "            Monster &\n",
    "            DropsLoot.min(1, MasterItem)\n",
    "        ]"
   ]
  },
  {
   "cell_type": "code",
   "execution_count": null,
   "metadata": {},
   "outputs": [],
   "source": [
    "# with onto:\n",
    "\n",
    "#     # --- Loot items ---\n",
    "#     alghoulBoneMarrow = MasterItem(\"Alghoul Bone Marrow\", HasPrice=30)\n",
    "#     alghoulClaw = MagicItem(\"Alghoul Claw\", HasPrice=60)\n",
    "#     arachasEyes = MagicItem(\"Arachas Eyes\", HasPrice=45)\n",
    "#     arachasVenom = MasterItem(\"Arachas Venom\", HasPrice=30)\n",
    "#     basiliskHide = MagicItem(\"Basilisk Hide\", HasPrice=544)\n",
    "#     basiliskVenom = MasterItem(\"Basilisk Venom\", HasPrice=45)\n",
    "#     berserkerHide = MagicItem(\"Berserker Hide\", HasPrice=309)    \n",
    "#     caveTrollLiver = MasterItem(\"Cave Troll Liver\", HasPrice=30)\n",
    "\n",
    "#     chortHide = MagicItem(\"Chort Hide\", HasPrice=324)\n",
    "#     cockatriceEgg = MagicItem(\"Cockatrice Egg\", HasPrice=55)\n",
    "#     cockatriceStomach = MasterItem(\"Cockatrice Stomach\", HasPrice=45)\n",
    "#     crystalizedEssence = MagicItem(\"Crystalized Essence\", HasPrice=75)\n",
    "#     cyclopsEye = MasterItem(\"Cyclops’ Eye\", HasPrice=30)\n",
    "#     darkEssence = MagicItem(\"Dark Essence\", HasPrice=45)\n",
    "#     devourersBlood = MasterItem(\"Devourer’s Blood\", HasPrice=30)\n",
    "#     drownerBrain = MasterItem(\"Drowner Brain\", HasPrice=30)    \n",
    "#     drownerTongue = MasterItem(\"Drowner Tongue\", HasPrice=30)\n",
    "#     ekimmaraHide = MagicItem(\"Ekimmara Hide\", HasPrice=294)\n",
    "#     elementalEssence = MagicItem(\"Elemental Essence\", HasPrice=75)    \n",
    "#     endregaEmbryo = MagicItem(\"Endrega Embryo\", HasPrice=45)\n",
    "#     endregaHeart = MasterItem(\"Endrega Heart\", HasPrice=30)\n",
    "#     eryniaEye = MagicItem(\"Erynia Eye\", HasPrice=45)\n",
    "#     essenceOfWraith = MagicItem(\"Essence of Wraith\", HasPrice=45)\n",
    "#     fiendsEye = MasterItem(\"Fiend’s Eye\", HasPrice=30)\n",
    "#     fogletTeeth = MagicItem(\"Foglet Teeth\", HasPrice=45)\n",
    "#     forktailHide = MasterItem(\"Forktail Hide\", HasPrice=30)\n",
    "#     gargoyleDust = MagicItem(\"Gargoyle Dust\", HasPrice=45)\n",
    "#     gargoyleHeart = MagicItem(\"Gargoyle Heart\", HasPrice=45)\n",
    "#     ghoulsBlood = MasterItem(\"Ghoul’s Blood\", HasPrice=30)\n",
    "#     golemsHeart = MagicItem(\"Golem’s Heart\", HasPrice=30)\n",
    "#     graveHagsEar = MasterItem(\"Grave Hag’s Ear\", HasPrice=30)\n",
    "#     griffinFeathers = MagicItem(\"Griffin Feathers\", HasPrice=60)\n",
    "#     griffinsEgg = MagicItem(\"Griffin’s Egg\", HasPrice=60)    \n",
    "#     hagTooth = MagicItem(\"Hag Tooth\", HasPrice=60)\n",
    "#     harpyEggs = MasterItem(\"Harpy Eggs\", HasPrice=30)\n",
    "#     harpyFeathers = MasterItem(\"Harpy Feathers\", HasPrice=30)\n",
    "#     harpyTalons = MagicItem(\"Harpy Talons\", HasPrice=45)    \n",
    "#     leshenResin = MagicItem(\"Leshen Resin\", HasPrice=51)\n",
    "#     lightEssence = MasterItem(\"Light Essence\", HasPrice=30)    \n",
    "#     lockOfLamiaHair = MagicItem(\"Lock of Lamia Hair\", HasPrice=60)\n",
    "#     monsterBlood = RelicItem(\"Monster Blood\", HasPrice=10)\n",
    "#     monsterBone = RelicItem(\"Monster Bone\", HasPrice=10)\n",
    "#     monsterBrain = RelicItem(\"Monster Brain\", HasPrice=10)\n",
    "#     monsterClaw = RelicItem(\"Monster Claw\", HasPrice=10)\n",
    "#     monsterEar = RelicItem(\"Monster Ear\", HasPrice=10)\n",
    "#     monsterEgg = RelicItem(\"Monster Egg\", HasPrice=10)\n",
    "#     monsterEssence = RelicItem(\"Monster Essence\", HasPrice=10)\n",
    "#     monsterEye = RelicItem(\"Monster Eye\", HasPrice=10)\n",
    "#     monsterFeather = RelicItem(\"Monster Feather\", HasPrice=10)\n",
    "#     monsterHair = RelicItem(\"Monster Hair\", HasPrice=10)\n",
    "#     monsterHeart = RelicItem(\"Monster Heart\", HasPrice=10)\n",
    "#     monsterHide = RelicItem(\"Monster Hide\", HasPrice=106)\n",
    "#     monsterLiver = RelicItem(\"Monster Liver\", HasPrice=10)\n",
    "#     monsterSaliva = RelicItem(\"Monster Saliva\", HasPrice=10)\n",
    "#     monsterTongue = RelicItem(\"Monster Tongue\", HasPrice=10)\n",
    "#     monsterTooth = RelicItem(\"Monster Tooth\", HasPrice=10)    \n",
    "#     necrophageHide = MagicItem(\"Necrophage Hide\", HasPrice=162)\n",
    "#     nekkerBlood = MasterItem(\"Nekker Blood\", HasPrice=30)\n",
    "#     nekkerClaw = MasterItem(\"Nekker Claw\", HasPrice=30)\n",
    "#     nekkerEye = MasterItem(\"Nekker Eye\", HasPrice=30)\n",
    "#     nekkerHeart = MasterItem(\"Nekker Heart\", HasPrice=30)\n",
    "#     nekkerWarriorsLiver = MasterItem(\"Nekker Warrior’s Liver\", HasPrice=30)    \n",
    "#     nightwraithHair = MagicItem(\"Nightwraith Hair\", HasPrice=45)\n",
    "#     powderedMonsterTissue = RelicItem(\"Powdered Monster Tissue\", HasPrice=10)    \n",
    "#     rotfiendBlood = MagicItem(\"Rotfiend Blood\", HasPrice=45)\n",
    "#     specterDust = MasterItem(\"Specter Dust\", HasPrice=30)\n",
    "#     shaelmaarDust = MagicItem(\"Shaelmaar Dust\", HasPrice=45)\n",
    "#     shaelmaarHair = MagicItem(\"Shaelmaar Hair\", HasPrice=45)\n",
    "#     sirenVocalCords = RelicItem(\"Siren Vocal Cords\", HasPrice=21)\n",
    "#     slyzardScalePlate = MagicItem(\"Slyzard Scale Plate\", HasPrice=480)\n",
    "#     stammelfordsDust = CommonItem(\"Stammelford's Dust\", HasPrice=14)\n",
    "#     trollHide = MagicItem(\"Troll Hide\", HasPrice=177)    \n",
    "#     vampireFang = MagicItem(\"Vampire Fang\", HasPrice=105)\n",
    "#     vampireBlood = MagicItem(\"Vampire Blood\", HasPrice=45)\n",
    "#     vampireSaliva = MasterItem(\"Vampire Saliva\", HasPrice=30)    \n",
    "#     waterEssence = MagicItem(\"Water Essence\", HasPrice=60)\n",
    "#     waterHagTooth = MagicItem(\"Water Hag Tooth\", HasPrice=75)    \n",
    "#     werewolfHide = MagicItem(\"Werewolf Hide\", HasPrice=192)\n",
    "#     werewolfSaliva = MagicItem(\"Werewolf Saliva\", HasPrice=60)\n",
    "#     wraithEssence = MagicItem(\"Wraith Essence\", HasPrice=45)\n",
    "#     wightEar = MagicItem(\"Wight Ear\", HasPrice=30)\n",
    "#     wightHair = MagicItem(\"Wight Hair\", HasPrice=60)\n",
    "#     wightStomach = MagicItem(\"Wight Stomach\", HasPrice=45)    \n",
    "#     wolfsLiver = CommonItem(\"Wolf's Liver\", HasPrice=10)\n",
    "#     wyvernEgg = MagicItem(\"Wyvern Egg\", HasPrice=70)\n",
    "#     wyvernHide = MagicItem(\"Wyvern Hide\", HasPrice=604)\n",
    "\n",
    "#     # --- Monster individuals ---\n",
    "#     ekimmara = Vampires(\"Ekimmara\")\n",
    "#     ekimmara.HasWeakness.append(silverWeakness)\n",
    "#     ekimmara.HasHabitat = Cave()\n",
    "#     ekimmara.DropsLoot.append(vampireFang)\n",
    "#     ekimmara.DropsLoot.append(ekimmaraHide)\n",
    "\n",
    "#     leshen = Relicts(\"Leshen\")\n",
    "#     leshen.HasWeakness.append(silverWeakness)\n",
    "#     leshen.HasHabitat = Forest()\n",
    "#     leshen.DropsLoot.append(leshenResin)\n",
    "\n",
    "#     noonwraith = Specters(\"Noonwraith\")\n",
    "#     noonwraith.HasWeakness.append(silverWeakness)\n",
    "#     noonwraith.HasHabitat = Ruins()\n",
    "#     noonwraith.DropsLoot.append(specterDust)\n",
    "\n",
    "#     griffin = Hybrids(\"Griffin\")    \n",
    "#     griffin.HasWeakness.append(silverWeakness)\n",
    "#     griffin.HasHabitat = Ruins()\n",
    "#     griffin.DropsLoot.append(griffinFeathers)\n",
    "#     griffin.DropsLoot.append(griffinsEgg)\n",
    "\n",
    "\n",
    "#     # TODO: Ако играч иска някакъв предмет -> трябва да отиде на еди коя си локация (Cave)"
   ]
  },
  {
   "cell_type": "code",
   "execution_count": 7,
   "metadata": {},
   "outputs": [],
   "source": [
    "onto.save(file = \"MonsterOntology.owl\", format = \"rdfxml\")"
   ]
  },
  {
   "cell_type": "code",
   "execution_count": 8,
   "metadata": {},
   "outputs": [
    {
     "name": "stdout",
     "output_type": "stream",
     "text": [
      "[]\n"
     ]
    }
   ],
   "source": [
    "print(list(onto.inconsistent_classes()))"
   ]
  },
  {
   "cell_type": "markdown",
   "metadata": {},
   "source": [
    "# Subsumption"
   ]
  },
  {
   "cell_type": "code",
   "execution_count": 9,
   "metadata": {},
   "outputs": [
    {
     "name": "stdout",
     "output_type": "stream",
     "text": [
      "Sign\n",
      "Sword\n",
      "Oil\n",
      "Bomb\n",
      "WitcherArsenal\n"
     ]
    }
   ],
   "source": [
    "for subclass in WitcherArsenal.descendants():\n",
    "    print(subclass.name)"
   ]
  },
  {
   "cell_type": "code",
   "execution_count": 10,
   "metadata": {},
   "outputs": [
    {
     "name": "stderr",
     "output_type": "stream",
     "text": [
      "* Owlready2 * Running HermiT...\n",
      "    java -Xmx2000M -cp c:\\fmi-projects\\MonsterOntology\\.venv\\Lib\\site-packages\\owlready2\\hermit;c:\\fmi-projects\\MonsterOntology\\.venv\\Lib\\site-packages\\owlready2\\hermit\\HermiT.jar org.semanticweb.HermiT.cli.CommandLine -c -O -D -I file:///C:/Users/CCVETA~1/AppData/Local/Temp/tmpwv4c49ue\n",
      "* Owlready2 * HermiT took 4.303115129470825 seconds\n",
      "* Owlready * Reparenting MonsterOntology.SilverWeakness: {owl.Thing} => {MonsterOntology.MaterialWeakness}\n",
      "* Owlready * Reparenting MonsterOntology.SteelWeakness: {owl.Thing} => {MonsterOntology.MaterialWeakness}\n",
      "* Owlready * Reparenting MonsterOntology.MasterLootMonster: {owl.Thing} => {MonsterOntology.Monster}\n",
      "* Owlready * Reparenting MonsterOntology.HighValueLootMonster: {owl.Thing} => {MonsterOntology.Monster}\n",
      "* Owlready * Reparenting MonsterOntology.CommonLootMonster: {owl.Thing} => {MonsterOntology.Monster}\n",
      "* Owlready * Reparenting MonsterOntology.MagicLootMonster: {owl.Thing} => {MonsterOntology.Monster}\n",
      "* Owlready * Reparenting MonsterOntology.LowValueLootMonster: {owl.Thing} => {MonsterOntology.Monster}\n",
      "* Owlready * Reparenting MonsterOntology.MaterialWeakness: {owl.Thing} => {MonsterOntology.Weakness, MonsterOntology.WitcherArsenal}\n",
      "* Owlready * Reparenting MonsterOntology.steelSword: {owl.Thing} => {MonsterOntology.Sword}\n",
      "* Owlready * Reparenting MonsterOntology.silverSword: {owl.Thing} => {MonsterOntology.Sword}\n",
      "* Owlready * Reparenting MonsterOntology.LowValueLoot: {owl.Thing} => {MonsterOntology.Loot}\n",
      "* Owlready * Reparenting MonsterOntology.HighValueLoot: {owl.Thing} => {MonsterOntology.Loot}\n",
      "* Owlready * (NB: only changes on entities loaded in Python are shown, other changes are done but not listed)\n"
     ]
    }
   ],
   "source": [
    "with onto:\n",
    "    sync_reasoner()"
   ]
  },
  {
   "cell_type": "code",
   "execution_count": 11,
   "metadata": {},
   "outputs": [
    {
     "name": "stdout",
     "output_type": "stream",
     "text": [
      "SilverWeakness\n",
      "MaterialWeakness\n",
      "Sign\n",
      "Sword\n",
      "Oil\n",
      "Bomb\n",
      "WitcherArsenal\n",
      "SteelWeakness\n",
      "silverSword\n",
      "steelSword\n"
     ]
    }
   ],
   "source": [
    "for subclass in WitcherArsenal.descendants():\n",
    "    print(subclass.name)"
   ]
  },
  {
   "cell_type": "markdown",
   "metadata": {},
   "source": [
    "# Classification"
   ]
  },
  {
   "cell_type": "code",
   "execution_count": 13,
   "metadata": {},
   "outputs": [],
   "source": [
    "with onto:\n",
    "    class VeryHighValueLoot(Thing):\n",
    "        equivalent_to = [\n",
    "            Loot &\n",
    "            HasPrice.value(OneOf(list(range(499,999))))\n",
    "        ]"
   ]
  },
  {
   "cell_type": "code",
   "execution_count": 15,
   "metadata": {},
   "outputs": [
    {
     "name": "stdout",
     "output_type": "stream",
     "text": [
      "[owl.Thing]\n"
     ]
    }
   ],
   "source": [
    "print(onto.get_parents_of(VeryHighValueLoot))"
   ]
  },
  {
   "cell_type": "code",
   "execution_count": 16,
   "metadata": {},
   "outputs": [
    {
     "name": "stdout",
     "output_type": "stream",
     "text": [
      "[]\n"
     ]
    }
   ],
   "source": [
    "print(onto.get_children_of(VeryHighValueLoot))"
   ]
  },
  {
   "cell_type": "code",
   "execution_count": 17,
   "metadata": {},
   "outputs": [
    {
     "name": "stderr",
     "output_type": "stream",
     "text": [
      "* Owlready2 * Running HermiT...\n",
      "    java -Xmx2000M -cp c:\\fmi-projects\\MonsterOntology\\.venv\\Lib\\site-packages\\owlready2\\hermit;c:\\fmi-projects\\MonsterOntology\\.venv\\Lib\\site-packages\\owlready2\\hermit\\HermiT.jar org.semanticweb.HermiT.cli.CommandLine -c -O -D -I file:///C:/Users/CCVETA~1/AppData/Local/Temp/tmp9xynvx97\n",
      "* Owlready2 * HermiT took 3.6955270767211914 seconds\n",
      "* Owlready * Reparenting MonsterOntology.VeryHighValueLoot: {owl.Thing} => {MonsterOntology.Loot}\n",
      "* Owlready * (NB: only changes on entities loaded in Python are shown, other changes are done but not listed)\n"
     ]
    }
   ],
   "source": [
    "with onto:\n",
    "    sync_reasoner()"
   ]
  },
  {
   "cell_type": "code",
   "execution_count": 18,
   "metadata": {},
   "outputs": [
    {
     "name": "stdout",
     "output_type": "stream",
     "text": [
      "[owl.Thing, MonsterOntology.Loot]\n"
     ]
    }
   ],
   "source": [
    "print(onto.get_parents_of(VeryHighValueLoot))"
   ]
  },
  {
   "cell_type": "code",
   "execution_count": 19,
   "metadata": {},
   "outputs": [
    {
     "name": "stdout",
     "output_type": "stream",
     "text": [
      "[]\n"
     ]
    }
   ],
   "source": [
    "print(onto.get_children_of(VeryHighValueLoot))"
   ]
  }
 ],
 "metadata": {
  "kernelspec": {
   "display_name": "dlenv",
   "language": "python",
   "name": "python3"
  },
  "language_info": {
   "codemirror_mode": {
    "name": "ipython",
    "version": 3
   },
   "file_extension": ".py",
   "mimetype": "text/x-python",
   "name": "python",
   "nbconvert_exporter": "python",
   "pygments_lexer": "ipython3",
   "version": "3.12.7"
  }
 },
 "nbformat": 4,
 "nbformat_minor": 2
}
