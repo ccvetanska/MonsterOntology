{
 "cells": [
  {
   "cell_type": "code",
   "execution_count": 1,
   "metadata": {},
   "outputs": [],
   "source": [
    "from owlready2 import *\n",
    "\n",
    "onto = get_ontology(\"http://example.org/MonsterOntology.owl\")\n",
    "\n",
    "with onto:\n",
    "    class WitcherThing(Thing): pass\n",
    "    class Monster(WitcherThing): pass\n",
    "\n",
    "    class Vampires(Monster): pass\n",
    "    class Relicts(Monster): pass\n",
    "    class Specters(Monster): pass\n",
    "    class Necrophages(Monster): pass\n",
    "    class Beasts(Monster): pass\n",
    "    class CursedOnes(Monster): pass\n",
    "    class Hybrids(Monster): pass\n",
    "    class Insectoids(Monster): pass\n",
    "    class Elementa(Monster): pass\n",
    "    class Draconids(Monster): pass\n",
    "    class Ogroids(Monster): pass\n",
    "\n",
    "    class Habitat(WitcherThing): pass\n",
    "    class Cave(Habitat): pass\n",
    "    class Forest(Habitat): pass\n",
    "    class Ruins(Habitat): pass\n",
    "\n",
    "    class Loot(WitcherThing): pass\n",
    "    class RelicItem(Loot): pass\n",
    "    class MasterItem(Loot): pass\n",
    "    class MagicItem(Loot): pass\n",
    "    class CommonItem(Loot): pass\n",
    "\n",
    "    class WitcherArsenal(WitcherThing): pass\n",
    "\n",
    "    class Oil(WitcherArsenal): pass\n",
    "    class VampireOil(Oil): pass\n",
    "\n",
    "    class Bomb(WitcherArsenal): pass\n",
    "    class DancingStar(Bomb): pass\n",
    "\n",
    "    class Sign(WitcherArsenal): pass\n",
    "    class Igni(Sign): pass\n",
    "    class Axii(Sign): pass\n",
    "\n",
    "    class Sword(WitcherArsenal): pass \n",
    "    class Material(WitcherThing): pass\n",
    "    silver = Material()\n",
    "    steel = Material()\n",
    "    \n",
    "    Material.is_a.append(OneOf([silver, steel]))\n",
    "\n",
    "    class HasMaterial(WitcherArsenal >> Material): pass\n",
    "\n",
    "    class silverSword (WitcherThing): \n",
    "        equivalent_to = [\n",
    "            WitcherArsenal &\n",
    "            Sword &\n",
    "            HasMaterial.value(silver) \n",
    "        ]\n",
    "\n",
    "    class steelSword (WitcherThing): \n",
    "        equivalent_to = [\n",
    "            WitcherArsenal &\n",
    "            Sword &\n",
    "            HasMaterial.value(steel) \n",
    "        ]\n",
    "\n",
    "    class Weakness(WitcherThing): pass\n",
    "    class MaterialWeakness(WitcherThing): \n",
    "        equivalent_to=[\n",
    "            Weakness &\n",
    "            HasMaterial.value(OneOf([silver,steel]))\n",
    "        ]\n",
    "\n",
    "    class SilverWeakness(WitcherThing):\n",
    "        equivalent_to = [\n",
    "            MaterialWeakness &\n",
    "            HasMaterial.only(silver)\n",
    "        ] \n",
    "\n",
    "    class SteelWeakness(WitcherThing):\n",
    "        equivalent_to = [\n",
    "            MaterialWeakness &\n",
    "            HasMaterial.only(steel)\n",
    "        ] \n",
    "\n",
    "    silverWeakness = SilverWeakness()\n",
    "    steelWeakness = SteelWeakness()\n",
    "\n",
    "    class HasHabitat(Monster >> Habitat, ObjectProperty): pass\n",
    "\n",
    "    class IsInhabitedBy(ObjectProperty):\n",
    "         domain = [Habitat]\n",
    "         range = [Monster]\n",
    "         inverse_property = HasHabitat\n",
    "         \n",
    "    class HasWeakness(Monster >> Weakness, TransitiveProperty): pass\n",
    "    class DropsLoot(Monster >> Loot): pass\n",
    "\n",
    "    class IsDroppedBy(FunctionalProperty):\n",
    "        domain = [Loot]\n",
    "        range = [Monster]\n",
    "        inverse_property = DropsLoot\n",
    "\n",
    "    class HasPrice(Loot >> int, FunctionalProperty): pass\n"
   ]
  },
  {
   "cell_type": "code",
   "execution_count": 2,
   "metadata": {},
   "outputs": [],
   "source": [
    "with onto:    \n",
    "        \n",
    "    class HighValueLoot(WitcherThing):\n",
    "        equivalent_to =[\n",
    "            Loot &\n",
    "            HasPrice.only(OneOf(list(range(100, 199))))\n",
    "        ]\n",
    "\n",
    "    class LowValueLoot(WitcherThing):\n",
    "        equivalent_to =[\n",
    "            Loot &\n",
    "            HasPrice.only(OneOf(list(range(0, 99))))\n",
    "        ]\n",
    "\n",
    "    class HighValueLootMonster(WitcherThing):\n",
    "        equivalent_to =[\n",
    "            Monster &\n",
    "            DropsLoot.min(1, HighValueLoot)\n",
    "        ]\n",
    "\n",
    "    class LowValueLootMonster(WitcherThing):\n",
    "        equivalent_to=[\n",
    "            Monster &\n",
    "            DropsLoot.min(1, LowValueLoot)\n",
    "        ]\n",
    "\n",
    "    class CommonLootMonster(WitcherThing):\n",
    "        equivalent_to=[\n",
    "            Monster &\n",
    "            DropsLoot.min(1, CommonItem)\n",
    "        ]\n",
    "\n",
    "    class MagicLootMonster(WitcherThing):\n",
    "        equivalent_to=[\n",
    "            Monster &\n",
    "            DropsLoot.min(1, MagicItem)\n",
    "        ]\n"
   ]
  },
  {
   "cell_type": "code",
   "execution_count": 3,
   "metadata": {},
   "outputs": [],
   "source": [
    "with onto:\n",
    "    alghoulBoneMarrow = MasterItem(\"AlghoulBoneMarrow\")\n",
    "    alghoulBoneMarrow.HasPrice = 30\n",
    "\n",
    "    basiliskHide = MagicItem(\"BasiliskHide\")\n",
    "    basiliskHide.HasPrice = 544\n",
    "\n",
    "    basiliskVenom = MasterItem(\"BasiliskVenom\")\n",
    "    basiliskVenom.HasPrice = 45\n",
    "\n",
    "    vampireFang = MagicItem(\"VampireFang\")\n",
    "    vampireFang.HasPrice = 105\n",
    "\n",
    "    leshenResin = MagicItem(\"LeshenResin\")\n",
    "    leshenResin.HasPrice = 51\n",
    "\n",
    "    vampireBlood = MagicItem(\"VampireBlood\")\n",
    "    vampireBlood.HasPrice = 45\n",
    "\n",
    "    vampireSaliva = MasterItem(\"VampireSaliva\")\n",
    "    vampireSaliva.HasPrice = 31\n",
    "\n",
    "    ekimmaraHide = MasterItem(\"EkimmaraHide\")\n",
    "    ekimmaraHide.HasPrice = 294\n",
    "\n",
    "    specterDust = MasterItem(\"SpecterDust\")\n",
    "    specterDust.HasPrice = 35\n",
    "\n",
    "    wolfsLiver = CommonItem(\"WolfsLiver\")\n",
    "    wolfsLiver.HasPrice = 10\n",
    "\n",
    "    ekimmaraHide = MasterItem(\"EkimmaraHide\")\n",
    "    ekimmaraHide.HasPrice = 100\n",
    "\n",
    "    griffinFeathers = MagicItem(\"GriffinFeathers\")\n",
    "    griffinFeathers.HasPrice = 60\n",
    "\n",
    "    griffinsEgg = MasterItem(\"GriffinsEgg\")\n",
    "    griffinsEgg.HasPrice = 65\n",
    "    \n",
    "    wyvernEgg = MagicItem(\"WyvernEgg\")\n",
    "    wyvernEgg.HasPrice = 604\n"
   ]
  },
  {
   "cell_type": "code",
   "execution_count": 4,
   "metadata": {},
   "outputs": [],
   "source": [
    "with onto:\n",
    "    ekimmara = Vampires(\"Ekimmara\")\n",
    "    ekimmara.HasWeakness.append(silverWeakness)\n",
    "    ekimmara.HasHabitat.append(Cave())\n",
    "    ekimmara.DropsLoot.append(vampireFang)\n",
    "    ekimmara.DropsLoot.append(ekimmaraHide)\n",
    "\n",
    "    leshen = Relicts(\"Leshen\")\n",
    "    leshen.HasWeakness.append(silverWeakness)\n",
    "    leshen.HasHabitat.append(Forest())\n",
    "    leshen.DropsLoot.append(leshenResin)\n",
    "\n",
    "    noonwraith = Specters(\"Noonwraith\")\n",
    "    noonwraith.HasWeakness.append(silverWeakness)\n",
    "    noonwraith.HasHabitat.append(Ruins())\n",
    "    noonwraith.DropsLoot.append(specterDust)\n",
    "\n",
    "    griffin = Hybrids(\"Griffin\")    \n",
    "    griffin.HasWeakness.append(silverWeakness)\n",
    "    griffin.HasHabitat.append(Ruins())\n",
    "    griffin.DropsLoot.append(griffinFeathers)\n",
    "    griffin.DropsLoot.append(griffinsEgg)\n",
    "\n",
    "    wolf = Beasts(\"Wolf\")\n",
    "    wolf.HasWeakness.append(steelWeakness)\n",
    "    wolf.HasHabitat.append(Forest())\n",
    "    wolf.DropsLoot.append(wolfsLiver)"
   ]
  },
  {
   "cell_type": "code",
   "execution_count": 5,
   "metadata": {},
   "outputs": [],
   "source": [
    "onto.save(file = \"MonsterOntology.owl\", format = \"rdfxml\")"
   ]
  },
  {
   "cell_type": "code",
   "execution_count": 6,
   "metadata": {},
   "outputs": [
    {
     "name": "stdout",
     "output_type": "stream",
     "text": [
      "[]\n"
     ]
    }
   ],
   "source": [
    "print(list(onto.inconsistent_classes()))"
   ]
  },
  {
   "cell_type": "markdown",
   "metadata": {},
   "source": [
    "# Subsumption"
   ]
  },
  {
   "cell_type": "code",
   "execution_count": 7,
   "metadata": {},
   "outputs": [
    {
     "name": "stdout",
     "output_type": "stream",
     "text": [
      "Bomb\n",
      "DancingStar\n",
      "Axii\n",
      "Sword\n",
      "Sign\n",
      "Oil\n",
      "Igni\n",
      "WitcherArsenal\n",
      "VampireOil\n"
     ]
    }
   ],
   "source": [
    "for subclass in WitcherArsenal.descendants():\n",
    "    print(subclass.name)"
   ]
  },
  {
   "cell_type": "code",
   "execution_count": 8,
   "metadata": {},
   "outputs": [
    {
     "name": "stderr",
     "output_type": "stream",
     "text": [
      "* Owlready2 * Running HermiT...\n",
      "    java -Xmx2000M -cp c:\\fmi-projects\\MonsterOntology\\.venv\\Lib\\site-packages\\owlready2\\hermit;c:\\fmi-projects\\MonsterOntology\\.venv\\Lib\\site-packages\\owlready2\\hermit\\HermiT.jar org.semanticweb.HermiT.cli.CommandLine -c -O -D -I file:///C:/Users/CCVETA~1/AppData/Local/Temp/tmproe1se68\n",
      "* Owlready2 * HermiT took 3.6545095443725586 seconds\n",
      "* Owlready * Reparenting MonsterOntology.SteelWeakness: {MonsterOntology.WitcherThing} => {MonsterOntology.MaterialWeakness}\n",
      "* Owlready * Reparenting MonsterOntology.SilverWeakness: {MonsterOntology.WitcherThing} => {MonsterOntology.MaterialWeakness}\n",
      "* Owlready * Reparenting MonsterOntology.LowValueLoot: {MonsterOntology.WitcherThing} => {MonsterOntology.Loot}\n",
      "* Owlready * Reparenting MonsterOntology.HighValueLoot: {MonsterOntology.WitcherThing} => {MonsterOntology.Loot}\n",
      "* Owlready * Reparenting MonsterOntology.LowValueLootMonster: {MonsterOntology.WitcherThing} => {MonsterOntology.Monster}\n",
      "* Owlready * Reparenting MonsterOntology.CommonLootMonster: {MonsterOntology.WitcherThing} => {MonsterOntology.Monster}\n",
      "* Owlready * Reparenting MonsterOntology.HighValueLootMonster: {MonsterOntology.WitcherThing} => {MonsterOntology.Monster}\n",
      "* Owlready * Reparenting MonsterOntology.MagicLootMonster: {MonsterOntology.WitcherThing} => {MonsterOntology.Monster}\n",
      "* Owlready * Reparenting MonsterOntology.MaterialWeakness: {MonsterOntology.WitcherThing} => {MonsterOntology.WitcherArsenal, MonsterOntology.Weakness}\n",
      "* Owlready * Reparenting MonsterOntology.steelSword: {MonsterOntology.WitcherThing} => {MonsterOntology.Sword}\n",
      "* Owlready * Reparenting MonsterOntology.silverSword: {MonsterOntology.WitcherThing} => {MonsterOntology.Sword}\n",
      "* Owlready * Reparenting MonsterOntology.commonitem1: {MonsterOntology.CommonItem} => {MonsterOntology.LowValueLoot, MonsterOntology.CommonItem}\n",
      "* Owlready * Reparenting MonsterOntology.Ekimmara: {MonsterOntology.Vampires} => {MonsterOntology.Vampires, MonsterOntology.HighValueLootMonster, MonsterOntology.MagicLootMonster}\n",
      "* Owlready * Reparenting MonsterOntology.Leshen: {MonsterOntology.Relicts} => {MonsterOntology.LowValueLootMonster, MonsterOntology.MagicLootMonster, MonsterOntology.Relicts}\n",
      "* Owlready * Reparenting MonsterOntology.magicitem5: {MonsterOntology.MagicItem} => {MonsterOntology.MagicItem, MonsterOntology.LowValueLoot}\n",
      "* Owlready * Reparenting MonsterOntology.magicitem4: {MonsterOntology.MagicItem} => {MonsterOntology.MagicItem, MonsterOntology.LowValueLoot}\n",
      "* Owlready * Reparenting MonsterOntology.Wolf: {MonsterOntology.Beasts} => {MonsterOntology.Beasts, MonsterOntology.CommonLootMonster, MonsterOntology.LowValueLootMonster}\n",
      "* Owlready * Reparenting MonsterOntology.magicitem3: {MonsterOntology.MagicItem} => {MonsterOntology.MagicItem, MonsterOntology.LowValueLoot}\n",
      "* Owlready * Reparenting MonsterOntology.magicitem2: {MonsterOntology.MagicItem} => {MonsterOntology.MagicItem, MonsterOntology.HighValueLoot}\n",
      "* Owlready * Reparenting MonsterOntology.Noonwraith: {MonsterOntology.Specters} => {MonsterOntology.Specters, MonsterOntology.LowValueLootMonster}\n",
      "* Owlready * Reparenting MonsterOntology.masteritem7: {MonsterOntology.MasterItem} => {MonsterOntology.LowValueLoot, MonsterOntology.MasterItem}\n",
      "* Owlready * Reparenting MonsterOntology.masteritem5: {MonsterOntology.MasterItem} => {MonsterOntology.LowValueLoot, MonsterOntology.MasterItem}\n",
      "* Owlready * Reparenting MonsterOntology.masteritem6: {MonsterOntology.MasterItem} => {MonsterOntology.MasterItem, MonsterOntology.HighValueLoot}\n",
      "* Owlready * Reparenting MonsterOntology.Griffin: {MonsterOntology.Hybrids} => {MonsterOntology.Hybrids, MonsterOntology.MagicLootMonster, MonsterOntology.LowValueLootMonster}\n",
      "* Owlready * Reparenting MonsterOntology.masteritem3: {MonsterOntology.MasterItem} => {MonsterOntology.LowValueLoot, MonsterOntology.MasterItem}\n",
      "* Owlready * Reparenting MonsterOntology.masteritem1: {MonsterOntology.MasterItem} => {MonsterOntology.LowValueLoot, MonsterOntology.MasterItem}\n",
      "* Owlready * Reparenting MonsterOntology.masteritem2: {MonsterOntology.MasterItem} => {MonsterOntology.LowValueLoot, MonsterOntology.MasterItem}\n",
      "* Owlready * (NB: only changes on entities loaded in Python are shown, other changes are done but not listed)\n"
     ]
    }
   ],
   "source": [
    "with onto:\n",
    "    sync_reasoner()"
   ]
  },
  {
   "cell_type": "code",
   "execution_count": 9,
   "metadata": {},
   "outputs": [
    {
     "name": "stdout",
     "output_type": "stream",
     "text": [
      "Bomb\n",
      "DancingStar\n",
      "Axii\n",
      "MaterialWeakness\n",
      "SilverWeakness\n",
      "silverSword\n",
      "Sword\n",
      "SteelWeakness\n",
      "Sign\n",
      "Oil\n",
      "Igni\n",
      "steelSword\n",
      "WitcherArsenal\n",
      "VampireOil\n"
     ]
    }
   ],
   "source": [
    "for subclass in WitcherArsenal.descendants():\n",
    "    print(subclass.name)"
   ]
  },
  {
   "cell_type": "markdown",
   "metadata": {},
   "source": [
    "# Classification"
   ]
  },
  {
   "cell_type": "code",
   "execution_count": 10,
   "metadata": {},
   "outputs": [],
   "source": [
    "with onto:\n",
    "    class MasterLootMonster(WitcherThing):\n",
    "        equivalent_to =[\n",
    "            Monster &\n",
    "            DropsLoot.min(1, MasterItem)\n",
    "        ]"
   ]
  },
  {
   "cell_type": "code",
   "execution_count": 11,
   "metadata": {},
   "outputs": [
    {
     "name": "stdout",
     "output_type": "stream",
     "text": [
      "[MonsterOntology.WitcherThing]\n"
     ]
    }
   ],
   "source": [
    "print(onto.get_parents_of(MasterLootMonster))"
   ]
  },
  {
   "cell_type": "code",
   "execution_count": 12,
   "metadata": {},
   "outputs": [
    {
     "name": "stdout",
     "output_type": "stream",
     "text": [
      "[]\n"
     ]
    }
   ],
   "source": [
    "print(onto.get_children_of(MasterLootMonster))"
   ]
  },
  {
   "cell_type": "code",
   "execution_count": 13,
   "metadata": {},
   "outputs": [
    {
     "name": "stderr",
     "output_type": "stream",
     "text": [
      "* Owlready2 * Running HermiT...\n",
      "    java -Xmx2000M -cp c:\\fmi-projects\\MonsterOntology\\.venv\\Lib\\site-packages\\owlready2\\hermit;c:\\fmi-projects\\MonsterOntology\\.venv\\Lib\\site-packages\\owlready2\\hermit\\HermiT.jar org.semanticweb.HermiT.cli.CommandLine -c -O -D -I file:///C:/Users/CCVETA~1/AppData/Local/Temp/tmpx9r9wntb\n",
      "* Owlready2 * HermiT took 3.48734188079834 seconds\n",
      "* Owlready * Reparenting MonsterOntology.MasterLootMonster: {MonsterOntology.WitcherThing} => {MonsterOntology.Monster}\n",
      "* Owlready * Reparenting MonsterOntology.Ekimmara: {MonsterOntology.Vampires, MonsterOntology.HighValueLootMonster, MonsterOntology.MagicLootMonster} => {MonsterOntology.Vampires, MonsterOntology.HighValueLootMonster, MonsterOntology.MagicLootMonster, MonsterOntology.MasterLootMonster}\n",
      "* Owlready * Reparenting MonsterOntology.Noonwraith: {MonsterOntology.LowValueLootMonster, MonsterOntology.Specters} => {MonsterOntology.Specters, MonsterOntology.LowValueLootMonster, MonsterOntology.MasterLootMonster}\n",
      "* Owlready * Reparenting MonsterOntology.Griffin: {MonsterOntology.Hybrids, MonsterOntology.MagicLootMonster, MonsterOntology.LowValueLootMonster} => {MonsterOntology.Hybrids, MonsterOntology.MagicLootMonster, MonsterOntology.MasterLootMonster, MonsterOntology.LowValueLootMonster}\n",
      "* Owlready * (NB: only changes on entities loaded in Python are shown, other changes are done but not listed)\n"
     ]
    }
   ],
   "source": [
    "with onto:\n",
    "    sync_reasoner()"
   ]
  },
  {
   "cell_type": "code",
   "execution_count": 14,
   "metadata": {},
   "outputs": [
    {
     "name": "stdout",
     "output_type": "stream",
     "text": [
      "[MonsterOntology.WitcherThing, MonsterOntology.Monster]\n"
     ]
    }
   ],
   "source": [
    "print(onto.get_parents_of(MasterLootMonster))"
   ]
  },
  {
   "cell_type": "code",
   "execution_count": 15,
   "metadata": {},
   "outputs": [
    {
     "name": "stdout",
     "output_type": "stream",
     "text": [
      "[]\n"
     ]
    }
   ],
   "source": [
    "print(onto.get_children_of(MasterLootMonster))"
   ]
  },
  {
   "cell_type": "code",
   "execution_count": 16,
   "metadata": {},
   "outputs": [
    {
     "name": "stdout",
     "output_type": "stream",
     "text": [
      "MasterLootMonster\n"
     ]
    }
   ],
   "source": [
    "for subclass in MasterLootMonster.descendants():\n",
    "    print(subclass.name)"
   ]
  }
 ],
 "metadata": {
  "kernelspec": {
   "display_name": "dlenv",
   "language": "python",
   "name": "python3"
  },
  "language_info": {
   "codemirror_mode": {
    "name": "ipython",
    "version": 3
   },
   "file_extension": ".py",
   "mimetype": "text/x-python",
   "name": "python",
   "nbconvert_exporter": "python",
   "pygments_lexer": "ipython3",
   "version": "3.12.7"
  }
 },
 "nbformat": 4,
 "nbformat_minor": 2
}
