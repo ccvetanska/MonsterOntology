{
 "cells": [
  {
   "cell_type": "code",
   "execution_count": 29,
   "metadata": {},
   "outputs": [],
   "source": [
    "from owlready2 import *\n",
    "\n",
    "onto = get_ontology(\"http://www.example.org/monster_ontology.owl\")\n",
    "onto.load()\n",
    "\n",
    "with onto:\n",
    "    # --- Concepts (Classes) ---\n",
    "    class Monster(Thing):\n",
    "        \"\"\"Main monster class\"\"\"\n",
    "        pass\n",
    "\n",
    "    # Subconcepts of Monster (monster types)\n",
    "    class Vampires(Monster): pass\n",
    "    class Relicts(Monster): pass\n",
    "    class Specters(Monster): pass\n",
    "    class Necrophages(Monster): pass\n",
    "    class Beasts(Monster): pass\n",
    "    class CursedOnes(Monster): pass\n",
    "    class Hybrids(Monster): pass\n",
    "    class Insectoids(Monster): pass\n",
    "    class Elementa(Monster): pass\n",
    "    class Draconids(Monster): pass\n",
    "    class Ogroids(Monster): pass\n",
    "\n",
    "    # Habitat concepts\n",
    "    class Habitat(Thing): pass\n",
    "    class Cave(Habitat): pass\n",
    "    class Forest(Habitat): pass\n",
    "    class Ruins(Habitat): pass\n",
    "\n",
    "    # Loot (Monster reamins) concepts\n",
    "    class Loot(Thing): pass\n",
    "    class RelicItem(Loot): pass\n",
    "    class MasterItem(Loot): pass\n",
    "    class MagicItem(Loot): pass\n",
    "    class CommonItem(Loot): pass\n",
    "\n",
    "    # Witcher means of combat : weapons, oils, bombs, swords, signs\n",
    "    class WitcherArsenal(Thing): pass\n",
    "\n",
    "    class Oil(WitcherArsenal): pass\n",
    "\n",
    "    class Bomb(WitcherArsenal): pass\n",
    "\n",
    "    class Sign(WitcherArsenal): pass\n",
    "\n",
    "    class Sword(WitcherArsenal): pass \n",
    "    class Material(Thing): pass\n",
    "    silver = Material()\n",
    "    steel = Material()\n",
    "    \n",
    "    Material.is_a.append(OneOf([silver, steel]))\n",
    "\n",
    "    class HasMaterial(Thing >> Material): pass\n",
    "\n",
    "    class silverSword (Thing): \n",
    "        equivalent_to = [\n",
    "            WitcherArsenal &\n",
    "            Sword &\n",
    "            HasMaterial.value(silver) \n",
    "        ]\n",
    "\n",
    "    class steelSword (Thing): \n",
    "        equivalent_to = [\n",
    "            WitcherArsenal &\n",
    "            Sword &\n",
    "            HasMaterial.value(steel) \n",
    "        ]\n",
    "\n",
    "\n",
    "    # Weakness concepts\n",
    "    class Weakness(Thing): pass\n",
    "    class MaterialWeakness(Thing): \n",
    "        equivalent_to=[\n",
    "            Weakness &\n",
    "            HasMaterial.value(OneOf([silver,steel]))\n",
    "        ]\n",
    "\n",
    "    class SilverWeakness(Thing):\n",
    "        equivalent_to = [\n",
    "            Weakness &\n",
    "            MaterialWeakness &\n",
    "            HasMaterial.value(silver)\n",
    "        ] \n",
    "\n",
    "    class SteelWeakness(Thing):\n",
    "        equivalent_to = [\n",
    "            Weakness &\n",
    "            MaterialWeakness &\n",
    "            HasMaterial.value(steel)\n",
    "        ] \n",
    "\n",
    "    silverWeakness = SilverWeakness()\n",
    "    steelWeakness = SteelWeakness()\n",
    "\n",
    "    # Monster properties\n",
    "    class HasHabitat(Monster >> Habitat, FunctionalProperty): pass\n",
    "    class HasWeakness(Monster >> Weakness): pass\n",
    "    class DropsLoot(Monster >> Loot): pass\n",
    "\n",
    "    class HasPrice(Loot >> float, FunctionalProperty): pass\n",
    "\n",
    "    class HighValueLoot(Thing):\n",
    "        equivalent_to =[\n",
    "            Loot &\n",
    "            HasPrice.min(300)\n",
    "        ]\n",
    "\n",
    "    class LowValueLoot(Thing):\n",
    "        equivalent_to =[\n",
    "            Loot &\n",
    "            HasPrice.max(30)\n",
    "        ]\n",
    "\n",
    "    class HighValueLootMonster(Thing):\n",
    "        equivalent_to =[\n",
    "            Monster &\n",
    "            DropsLoot.min(1, HighValueLoot)\n",
    "        ]\n",
    "\n",
    "    class LowValueLootMonster(Thing):\n",
    "        equivalent_to=[\n",
    "            Monster&\n",
    "            DropsLoot.min(1, LowValueLoot)\n",
    "        ]\n",
    "\n",
    "    class CommonLootMonster(Thing):\n",
    "        equivalent_to=[\n",
    "            Monster &\n",
    "            DropsLoot.min(1, CommonItem)\n",
    "        ]\n",
    "\n",
    "    class MagicLootMonster(Thing):\n",
    "        equivalent_to=[\n",
    "            Monster &\n",
    "            DropsLoot.min(1, MagicItem)\n",
    "        ]\n",
    "\n",
    "    class MasterLootMonster(Thing):\n",
    "        equivalent_to =[\n",
    "            Monster &\n",
    "            DropsLoot.min(1, MasterItem)\n",
    "        ]\n",
    "\n",
    "    # --- Loot items ---\n",
    "    alghoulBoneMarrow = MasterItem(\"Alghoul Bone Marrow\", HasPrice=30)\n",
    "    alghoulClaw = MagicItem(\"Alghoul Claw\", HasPrice=60)\n",
    "    arachasEyes = MagicItem(\"Arachas Eyes\", HasPrice=45)\n",
    "    arachasVenom = MasterItem(\"Arachas Venom\", HasPrice=30)\n",
    "    basiliskHide = MagicItem(\"Basilisk Hide\", HasPrice=544)\n",
    "    basiliskVenom = MasterItem(\"Basilisk Venom\", HasPrice=45)\n",
    "    berserkerHide = MagicItem(\"Berserker Hide\", HasPrice=309)    \n",
    "    caveTrollLiver = MasterItem(\"Cave Troll Liver\", HasPrice=30)\n",
    "\n",
    "    chortHide = MagicItem(\"Chort Hide\", HasPrice=324)\n",
    "    cockatriceEgg = MagicItem(\"Cockatrice Egg\", HasPrice=55)\n",
    "    cockatriceStomach = MasterItem(\"Cockatrice Stomach\", HasPrice=45)\n",
    "    crystalizedEssence = MagicItem(\"Crystalized Essence\", HasPrice=75)\n",
    "    cyclopsEye = MasterItem(\"Cyclops’ Eye\", HasPrice=30)\n",
    "    darkEssence = MagicItem(\"Dark Essence\", HasPrice=45)\n",
    "    devourersBlood = MasterItem(\"Devourer’s Blood\", HasPrice=30)\n",
    "    drownerBrain = MasterItem(\"Drowner Brain\", HasPrice=30)    \n",
    "    drownerTongue = MasterItem(\"Drowner Tongue\", HasPrice=30)\n",
    "    ekimmaraHide = MagicItem(\"Ekimmara Hide\", HasPrice=294)\n",
    "    elementalEssence = MagicItem(\"Elemental Essence\", HasPrice=75)    \n",
    "    endregaEmbryo = MagicItem(\"Endrega Embryo\", HasPrice=45)\n",
    "    endregaHeart = MasterItem(\"Endrega Heart\", HasPrice=30)\n",
    "    eryniaEye = MagicItem(\"Erynia Eye\", HasPrice=45)\n",
    "    essenceOfWraith = MagicItem(\"Essence of Wraith\", HasPrice=45)\n",
    "    fiendsEye = MasterItem(\"Fiend’s Eye\", HasPrice=30)\n",
    "    fogletTeeth = MagicItem(\"Foglet Teeth\", HasPrice=45)\n",
    "    forktailHide = MasterItem(\"Forktail Hide\", HasPrice=30)\n",
    "    gargoyleDust = MagicItem(\"Gargoyle Dust\", HasPrice=45)\n",
    "    gargoyleHeart = MagicItem(\"Gargoyle Heart\", HasPrice=45)\n",
    "    ghoulsBlood = MasterItem(\"Ghoul’s Blood\", HasPrice=30)\n",
    "    golemsHeart = MagicItem(\"Golem’s Heart\", HasPrice=30)\n",
    "    graveHagsEar = MasterItem(\"Grave Hag’s Ear\", HasPrice=30)\n",
    "    griffinFeathers = MagicItem(\"Griffin Feathers\", HasPrice=60)\n",
    "    griffinsEgg = MagicItem(\"Griffin’s Egg\", HasPrice=60)    \n",
    "    hagTooth = MagicItem(\"Hag Tooth\", HasPrice=60)\n",
    "    harpyEggs = MasterItem(\"Harpy Eggs\", HasPrice=30)\n",
    "    harpyFeathers = MasterItem(\"Harpy Feathers\", HasPrice=30)\n",
    "    harpyTalons = MagicItem(\"Harpy Talons\", HasPrice=45)    \n",
    "    leshenResin = MagicItem(\"Leshen Resin\", HasPrice=51)\n",
    "    lightEssence = MasterItem(\"Light Essence\", HasPrice=30)    \n",
    "    lockOfLamiaHair = MagicItem(\"Lock of Lamia Hair\", HasPrice=60)\n",
    "    monsterBlood = RelicItem(\"Monster Blood\", HasPrice=10)\n",
    "    monsterBone = RelicItem(\"Monster Bone\", HasPrice=10)\n",
    "    monsterBrain = RelicItem(\"Monster Brain\", HasPrice=10)\n",
    "    monsterClaw = RelicItem(\"Monster Claw\", HasPrice=10)\n",
    "    monsterEar = RelicItem(\"Monster Ear\", HasPrice=10)\n",
    "    monsterEgg = RelicItem(\"Monster Egg\", HasPrice=10)\n",
    "    monsterEssence = RelicItem(\"Monster Essence\", HasPrice=10)\n",
    "    monsterEye = RelicItem(\"Monster Eye\", HasPrice=10)\n",
    "    monsterFeather = RelicItem(\"Monster Feather\", HasPrice=10)\n",
    "    monsterHair = RelicItem(\"Monster Hair\", HasPrice=10)\n",
    "    monsterHeart = RelicItem(\"Monster Heart\", HasPrice=10)\n",
    "    monsterHide = RelicItem(\"Monster Hide\", HasPrice=106)\n",
    "    monsterLiver = RelicItem(\"Monster Liver\", HasPrice=10)\n",
    "    monsterSaliva = RelicItem(\"Monster Saliva\", HasPrice=10)\n",
    "    monsterTongue = RelicItem(\"Monster Tongue\", HasPrice=10)\n",
    "    monsterTooth = RelicItem(\"Monster Tooth\", HasPrice=10)    \n",
    "    necrophageHide = MagicItem(\"Necrophage Hide\", HasPrice=162)\n",
    "    nekkerBlood = MasterItem(\"Nekker Blood\", HasPrice=30)\n",
    "    nekkerClaw = MasterItem(\"Nekker Claw\", HasPrice=30)\n",
    "    nekkerEye = MasterItem(\"Nekker Eye\", HasPrice=30)\n",
    "    nekkerHeart = MasterItem(\"Nekker Heart\", HasPrice=30)\n",
    "    nekkerWarriorsLiver = MasterItem(\"Nekker Warrior’s Liver\", HasPrice=30)    \n",
    "    nightwraithHair = MagicItem(\"Nightwraith Hair\", HasPrice=45)\n",
    "    powderedMonsterTissue = RelicItem(\"Powdered Monster Tissue\", HasPrice=10)    \n",
    "    rotfiendBlood = MagicItem(\"Rotfiend Blood\", HasPrice=45)\n",
    "    specterDust = MasterItem(\"Specter Dust\", HasPrice=30)\n",
    "    shaelmaarDust = MagicItem(\"Shaelmaar Dust\", HasPrice=45)\n",
    "    shaelmaarHair = MagicItem(\"Shaelmaar Hair\", HasPrice=45)\n",
    "    sirenVocalCords = RelicItem(\"Siren Vocal Cords\", HasPrice=21)\n",
    "    slyzardScalePlate = MagicItem(\"Slyzard Scale Plate\", HasPrice=480)\n",
    "    stammelfordsDust = CommonItem(\"Stammelford's Dust\", HasPrice=14)\n",
    "    trollHide = MagicItem(\"Troll Hide\", HasPrice=177)    \n",
    "    vampireFang = MagicItem(\"Vampire Fang\", HasPrice=105)\n",
    "    vampireBlood = MagicItem(\"Vampire Blood\", HasPrice=45)\n",
    "    vampireSaliva = MasterItem(\"Vampire Saliva\", HasPrice=30)    \n",
    "    waterEssence = MagicItem(\"Water Essence\", HasPrice=60)\n",
    "    waterHagTooth = MagicItem(\"Water Hag Tooth\", HasPrice=75)    \n",
    "    werewolfHide = MagicItem(\"Werewolf Hide\", HasPrice=192)\n",
    "    werewolfSaliva = MagicItem(\"Werewolf Saliva\", HasPrice=60)\n",
    "    wraithEssence = MagicItem(\"Wraith Essence\", HasPrice=45)\n",
    "    wightEar = MagicItem(\"Wight Ear\", HasPrice=30)\n",
    "    wightHair = MagicItem(\"Wight Hair\", HasPrice=60)\n",
    "    wightStomach = MagicItem(\"Wight Stomach\", HasPrice=45)    \n",
    "    wolfsLiver = CommonItem(\"Wolf's Liver\", HasPrice=10)\n",
    "    wyvernEgg = MagicItem(\"Wyvern Egg\", HasPrice=70)\n",
    "    wyvernHide = MagicItem(\"Wyvern Hide\", HasPrice=604)\n",
    "\n",
    "    # --- Monster individuals ---\n",
    "    ekimmara = Vampires(\"Ekimmara\")\n",
    "    ekimmara.HasWeakness.append(silverWeakness)\n",
    "    ekimmara.HasHabitat = Cave()\n",
    "    ekimmara.DropsLoot.append(vampireFang)\n",
    "    ekimmara.DropsLoot.append(ekimmaraHide)\n",
    "\n",
    "    leshen = Relicts(\"Leshen\")\n",
    "    leshen.HasWeakness.append(silverWeakness)\n",
    "    leshen.HasHabitat = Forest()\n",
    "    leshen.DropsLoot.append(leshenResin)\n",
    "\n",
    "    noonwraith = Specters(\"Noonwraith\")\n",
    "    noonwraith.HasWeakness.append(silverWeakness)\n",
    "    noonwraith.HasHabitat = Ruins()\n",
    "    noonwraith.DropsLoot.append(specterDust)\n",
    "\n",
    "    griffin = Hybrids(\"Griffin\")    \n",
    "    griffin.HasWeakness.append(silverWeakness)\n",
    "    griffin.HasHabitat = Ruins()\n",
    "    griffin.DropsLoot.append(griffinFeathers)\n",
    "    griffin.DropsLoot.append(griffinsEgg)\n",
    "\n",
    "\n",
    "    # TODO: Ако играч иска някакъв предмет -> трябва да отиде на еди коя си локация (Cave)\n",
    "\n",
    "\n",
    "    # --- Reasoning  ----\n",
    "\n",
    "    # --- SUBSUMPTION ----\n",
    "    # for subclass in WitcherArsenal.descendants():\n",
    "    #     print(subclass.name)\n",
    "   \n",
    "    # sync_reasoner()\n",
    "\n",
    "    # for subclass in WitcherArsenal.descendants():\n",
    "    #     print(subclass.name)\n",
    "\n",
    "    # def compare_loot(monster1, monster2):\n",
    "    #     loot1 = list(monster1.DropsLoot)\n",
    "    #     loot2 = list(monster2.DropsLoot)\n",
    "\n",
    "    #     def get_loot_value(loot):\n",
    "    #         return sum(item.HasPrice for item in loot if hasattr(item, 'HasPrice'))\n",
    "\n",
    "    #     value1 = get_loot_value(loot1)\n",
    "    #     value2 = get_loot_value(loot2)\n",
    "\n",
    "    #     if value1 > value2:\n",
    "    #         return f\"{monster1.name} drops more expensive loot than {monster2.name}\"\n",
    "    #     elif value1 < value2:\n",
    "    #         return f\"{monster2.name} drops more expensive loot than {monster1.name}\"\n",
    "    #     else:\n",
    "    #         return \"Those two monsters drop equally expensive loot\"\n",
    "\n",
    "    # result = compare_loot(noonwraith, leshen)\n",
    "    # print(result)\n",
    "\n",
    "    # for monster in Monster.instances():\n",
    "    #     print(f\"{monster.name} can be found in: {monster.HasHabitat.name if monster.HasHabitat else 'unknown habitat'}\")\n",
    "    \n",
    "\n"
   ]
  },
  {
   "cell_type": "code",
   "execution_count": 30,
   "metadata": {},
   "outputs": [],
   "source": [
    "# save ontology in .owl file\n",
    "\n",
    "onto.save(file=\"monster_ontology.owl\", format=\"rdfxml\")"
   ]
  },
  {
   "cell_type": "code",
   "execution_count": 31,
   "metadata": {},
   "outputs": [
    {
     "name": "stdout",
     "output_type": "stream",
     "text": [
      "[]\n"
     ]
    }
   ],
   "source": [
    "print(list(onto.inconsistent_classes()))"
   ]
  },
  {
   "cell_type": "markdown",
   "metadata": {},
   "source": [
    "# Subsumption"
   ]
  },
  {
   "cell_type": "code",
   "execution_count": 32,
   "metadata": {},
   "outputs": [
    {
     "name": "stdout",
     "output_type": "stream",
     "text": [
      "steelSword\n",
      "silverSword\n",
      "Sign\n",
      "Sword\n",
      "Bomb\n",
      "Oil\n",
      "WitcherArsenal\n"
     ]
    }
   ],
   "source": [
    "for subclass in WitcherArsenal.descendants():\n",
    "    print(subclass.name)"
   ]
  },
  {
   "cell_type": "code",
   "execution_count": 33,
   "metadata": {},
   "outputs": [
    {
     "name": "stderr",
     "output_type": "stream",
     "text": [
      "* Owlready2 * Running HermiT...\n",
      "    java -Xmx2000M -cp c:\\fmi-projects\\MonsterOntology\\.venv\\Lib\\site-packages\\owlready2\\hermit;c:\\fmi-projects\\MonsterOntology\\.venv\\Lib\\site-packages\\owlready2\\hermit\\HermiT.jar org.semanticweb.HermiT.cli.CommandLine -c -O -D -I file:///C:/Users/CCVETA~1/AppData/Local/Temp/tmpfhk2sz2o\n",
      "* Owlready2 * HermiT took 2.972142219543457 seconds\n",
      "* Owlready * (NB: only changes on entities loaded in Python are shown, other changes are done but not listed)\n"
     ]
    }
   ],
   "source": [
    "with onto:\n",
    "    sync_reasoner()"
   ]
  },
  {
   "cell_type": "code",
   "execution_count": 34,
   "metadata": {},
   "outputs": [
    {
     "name": "stdout",
     "output_type": "stream",
     "text": [
      "steelSword\n",
      "silverSword\n",
      "Sign\n",
      "Sword\n",
      "Bomb\n",
      "Oil\n",
      "WitcherArsenal\n"
     ]
    }
   ],
   "source": [
    "for subclass in WitcherArsenal.descendants():\n",
    "    print(subclass.name)"
   ]
  },
  {
   "cell_type": "markdown",
   "metadata": {},
   "source": [
    "# Classification"
   ]
  },
  {
   "cell_type": "code",
   "execution_count": 35,
   "metadata": {},
   "outputs": [],
   "source": [
    "with onto:\n",
    "    class VeryHighValueLoot(Thing):\n",
    "        equivalent_to = [\n",
    "            Loot &\n",
    "            HasPrice.min(400)\n",
    "        ]"
   ]
  },
  {
   "cell_type": "code",
   "execution_count": 36,
   "metadata": {},
   "outputs": [
    {
     "name": "stdout",
     "output_type": "stream",
     "text": [
      "[owl.Thing]\n"
     ]
    }
   ],
   "source": [
    "print(onto.get_parents_of(VeryHighValueLoot))"
   ]
  },
  {
   "cell_type": "code",
   "execution_count": 37,
   "metadata": {},
   "outputs": [
    {
     "name": "stdout",
     "output_type": "stream",
     "text": [
      "[]\n"
     ]
    }
   ],
   "source": [
    "print(onto.get_children_of(VeryHighValueLoot))"
   ]
  },
  {
   "cell_type": "code",
   "execution_count": 38,
   "metadata": {},
   "outputs": [
    {
     "name": "stdout",
     "output_type": "stream",
     "text": [
      "[monster_ontology.Monster Blood, monster_ontology.Monster Bone, monster_ontology.Monster Brain, monster_ontology.Monster Claw, monster_ontology.Monster Ear, monster_ontology.Monster Egg, monster_ontology.Monster Essence, monster_ontology.Monster Eye, monster_ontology.Monster Feather, monster_ontology.Monster Hair, monster_ontology.Monster Heart, monster_ontology.Monster Hide, monster_ontology.Monster Liver, monster_ontology.Monster Saliva, monster_ontology.Monster Tongue, monster_ontology.Monster Tooth, monster_ontology.Powdered Monster Tissue, monster_ontology.Siren Vocal Cords, monster_ontology.Alghoul Bone Marrow, monster_ontology.Arachas Venom, monster_ontology.Basilisk Venom, monster_ontology.Cave Troll Liver, monster_ontology.Cockatrice Stomach, monster_ontology.Cyclops’ Eye, monster_ontology.Devourer’s Blood, monster_ontology.Drowner Brain, monster_ontology.Drowner Tongue, monster_ontology.Endrega Heart, monster_ontology.Fiend’s Eye, monster_ontology.Forktail Hide, monster_ontology.Ghoul’s Blood, monster_ontology.Grave Hag’s Ear, monster_ontology.Harpy Eggs, monster_ontology.Harpy Feathers, monster_ontology.Light Essence, monster_ontology.Nekker Blood, monster_ontology.Nekker Claw, monster_ontology.Nekker Eye, monster_ontology.Nekker Heart, monster_ontology.Nekker Warrior’s Liver, monster_ontology.Specter Dust, monster_ontology.Vampire Saliva, monster_ontology.Alghoul Claw, monster_ontology.Arachas Eyes, monster_ontology.Basilisk Hide, monster_ontology.Berserker Hide, monster_ontology.Chort Hide, monster_ontology.Cockatrice Egg, monster_ontology.Crystalized Essence, monster_ontology.Dark Essence, monster_ontology.Ekimmara Hide, monster_ontology.Elemental Essence, monster_ontology.Endrega Embryo, monster_ontology.Erynia Eye, monster_ontology.Essence of Wraith, monster_ontology.Foglet Teeth, monster_ontology.Gargoyle Dust, monster_ontology.Gargoyle Heart, monster_ontology.Golem’s Heart, monster_ontology.Griffin Feathers, monster_ontology.Griffin’s Egg, monster_ontology.Hag Tooth, monster_ontology.Harpy Talons, monster_ontology.Leshen Resin, monster_ontology.Lock of Lamia Hair, monster_ontology.Necrophage Hide, monster_ontology.Nightwraith Hair, monster_ontology.Rotfiend Blood, monster_ontology.Shaelmaar Dust, monster_ontology.Shaelmaar Hair, monster_ontology.Slyzard Scale Plate, monster_ontology.Troll Hide, monster_ontology.Vampire Fang, monster_ontology.Vampire Blood, monster_ontology.Water Essence, monster_ontology.Water Hag Tooth, monster_ontology.Werewolf Hide, monster_ontology.Werewolf Saliva, monster_ontology.Wraith Essence, monster_ontology.Wight Ear, monster_ontology.Wight Hair, monster_ontology.Wight Stomach, monster_ontology.Wyvern Egg, monster_ontology.Wyvern Hide, monster_ontology.Stammelford's Dust, monster_ontology.Wolf's Liver]\n"
     ]
    }
   ],
   "source": [
    "print(list(Loot.instances()))"
   ]
  },
  {
   "cell_type": "code",
   "execution_count": 39,
   "metadata": {},
   "outputs": [
    {
     "name": "stderr",
     "output_type": "stream",
     "text": [
      "* Owlready2 * Running HermiT...\n",
      "    java -Xmx2000M -cp c:\\fmi-projects\\MonsterOntology\\.venv\\Lib\\site-packages\\owlready2\\hermit;c:\\fmi-projects\\MonsterOntology\\.venv\\Lib\\site-packages\\owlready2\\hermit\\HermiT.jar org.semanticweb.HermiT.cli.CommandLine -c -O -D -I file:///C:/Users/CCVETA~1/AppData/Local/Temp/tmpoh51qu31\n",
      "* Owlready2 * HermiT took 3.020146369934082 seconds\n",
      "* Owlready * (NB: only changes on entities loaded in Python are shown, other changes are done but not listed)\n"
     ]
    }
   ],
   "source": [
    "with onto:\n",
    "    sync_reasoner()"
   ]
  },
  {
   "cell_type": "code",
   "execution_count": 40,
   "metadata": {},
   "outputs": [
    {
     "name": "stdout",
     "output_type": "stream",
     "text": [
      "[owl.Thing]\n"
     ]
    }
   ],
   "source": [
    "print(onto.get_parents_of(VeryHighValueLoot))"
   ]
  },
  {
   "cell_type": "code",
   "execution_count": 41,
   "metadata": {},
   "outputs": [
    {
     "name": "stdout",
     "output_type": "stream",
     "text": [
      "[]\n"
     ]
    }
   ],
   "source": [
    "print(onto.get_children_of(VeryHighValueLoot))"
   ]
  }
 ],
 "metadata": {
  "kernelspec": {
   "display_name": ".venv",
   "language": "python",
   "name": "python3"
  },
  "language_info": {
   "codemirror_mode": {
    "name": "ipython",
    "version": 3
   },
   "file_extension": ".py",
   "mimetype": "text/x-python",
   "name": "python",
   "nbconvert_exporter": "python",
   "pygments_lexer": "ipython3",
   "version": "3.13.0"
  }
 },
 "nbformat": 4,
 "nbformat_minor": 2
}
