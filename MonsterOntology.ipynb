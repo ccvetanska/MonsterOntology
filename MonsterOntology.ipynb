{
 "cells": [
  {
   "cell_type": "code",
   "execution_count": 1,
   "metadata": {},
   "outputs": [],
   "source": [
    "from owlready2 import *\n",
    "\n",
    "onto = get_ontology(\"http://example.org/MonsterOntology.owl\")\n",
    "\n",
    "with onto:\n",
    "    class WitcherThing(Thing): pass\n",
    "    class Monster(WitcherThing): pass\n",
    "\n",
    "    class Habitat(WitcherThing): pass\n",
    "    class Cave(Habitat): pass\n",
    "    class Forest(Habitat): pass\n",
    "    class Ruins(Habitat): pass\n",
    "\n",
    "    class Loot(WitcherThing): pass\n",
    "    class RelicItem(Loot): pass\n",
    "    class MasterItem(Loot): pass\n",
    "    class MagicItem(Loot): pass\n",
    "    class CommonItem(Loot): pass\n",
    "\n",
    "    class WitcherArsenal(WitcherThing): pass\n",
    "\n",
    "    class Oil(WitcherArsenal): pass\n",
    "    vampireOil = Oil(\"vampireOil\")\n",
    "    relictOil = Oil(\"relictOil\")\n",
    "    specterOil = Oil(\"specterOil\")\n",
    "    beastOil = Oil(\"beastOil\")\n",
    "    cursedOil = Oil(\"cursedOil\")\n",
    "    hybridOil = Oil(\"hybridOil\")\n",
    "    necrofageOil = Oil(\"necrofageOil\")\n",
    "    ogroidOil = Oil(\"ogroidOil\")\n",
    "    elementaOil = Oil(\"elementaOil\")\n",
    "    insectoidOil = Oil(\"insectoidOil\")\n",
    "    draconidOil = Oil(\"draconidOil\")\n",
    "\n",
    "    class Bomb(WitcherArsenal): pass\n",
    "\n",
    "    class Sign(WitcherArsenal): pass\n",
    "\n",
    "    class Sword(WitcherArsenal): pass \n",
    "    class Material(WitcherThing): pass\n",
    "    silver = Material()\n",
    "    steel = Material()    \n",
    "    Material.is_a.append(OneOf([silver, steel]))\n",
    "\n",
    "    class Element(WitcherThing): pass\n",
    "    fire = Element(\"fire\")\n",
    "    water = Element(\"water\")\n",
    "    Element.is_a.append(OneOf([fire, water]))\n",
    "\n",
    "    class HasMaterial(WitcherArsenal >> Material): pass\n",
    "\n",
    "    class HasElement(WitcherArsenal >> Element, FunctionalProperty): pass\n",
    "\n",
    "    class silverSword (WitcherThing):\n",
    "        equivalent_to = [\n",
    "            WitcherArsenal &\n",
    "            Sword &\n",
    "            HasMaterial.value(silver) \n",
    "        ]\n",
    "\n",
    "    class steelSword (WitcherThing): \n",
    "        equivalent_to = [\n",
    "            WitcherArsenal &\n",
    "            Sword &\n",
    "            HasMaterial.value(steel) \n",
    "        ]\n",
    "\n",
    "    class Weakness(WitcherThing): pass\n",
    "    class MaterialWeakness(WitcherThing): \n",
    "        equivalent_to=[\n",
    "            Weakness &\n",
    "            HasMaterial.value(OneOf([silver,steel]))\n",
    "        ]\n",
    "\n",
    "    class SilverWeakness(WitcherThing):\n",
    "        equivalent_to = [\n",
    "            MaterialWeakness &\n",
    "            HasMaterial.only(silver)\n",
    "        ] \n",
    "\n",
    "    class SteelWeakness(WitcherThing):\n",
    "        equivalent_to = [\n",
    "            MaterialWeakness &\n",
    "            HasMaterial.only(steel)\n",
    "        ] \n",
    "\n",
    "    silverWeakness = SilverWeakness()\n",
    "    steelWeakness = SteelWeakness()\n",
    "\n",
    "    dancingStar = Bomb (\"dancingStar\")\n",
    "    dancingStar.HasElement = fire\n",
    "\n",
    "    class Igni(WitcherThing):\n",
    "        equivalent_to=[\n",
    "            Sign &\n",
    "            HasElement.value(fire)\n",
    "        ]\n",
    "\n",
    "    class HasHabitat(Monster >> Habitat, ObjectProperty): pass\n",
    "\n",
    "    class IsInhabitedBy(ObjectProperty):\n",
    "         domain = [Habitat]\n",
    "         range = [Monster]\n",
    "         inverse_property = HasHabitat\n",
    "         \n",
    "    class HasWeakness(Monster >> Weakness, TransitiveProperty): pass\n",
    "    class DropsLoot(Monster >> Loot): pass\n",
    "\n",
    "    class IsDroppedBy(FunctionalProperty):\n",
    "        domain = [Loot]\n",
    "        range = [Monster]\n",
    "        inverse_property = DropsLoot\n",
    "\n",
    "    class HasPrice(Loot >> int, FunctionalProperty): pass\n",
    "\n",
    "    class IsEffectiveAgainst(WitcherArsenal >> Monster): pass\n",
    "\n",
    "    class CanBeFoundAt(Loot, Habitat): pass\n"
   ]
  },
  {
   "cell_type": "code",
   "execution_count": 2,
   "metadata": {},
   "outputs": [],
   "source": [
    "with onto:            \n",
    "    class Vampires(Monster): \n",
    "        equivalent_to=[\n",
    "            HasWeakness.value(vampireOil) &\n",
    "            HasWeakness.value(silverWeakness) &\n",
    "            HasWeakness.value(fire)\n",
    "        ]\n",
    "    class Relicts(Monster): \n",
    "        equivalent_to=[\n",
    "            HasWeakness.value(relictOil) &\n",
    "            HasWeakness.value(silverWeakness)\n",
    "        ]\n",
    "    class Specters(Monster): \n",
    "        equivalent_to=[\n",
    "            HasWeakness.value(specterOil) &\n",
    "            HasWeakness.value(silverWeakness)\n",
    "        ]\n",
    "    class Necrophages(Monster): \n",
    "        equivalent_to=[\n",
    "            HasWeakness.value(specterOil) &\n",
    "            HasWeakness.value(silverWeakness)\n",
    "        ]\n",
    "    class Beasts(Monster):\n",
    "        equivalent_to=[\n",
    "            HasWeakness.value(beastOil) &\n",
    "            HasWeakness.value(steelWeakness)\n",
    "        ]\n",
    "    class CursedOnes(Monster): pass\n",
    "    class Hybrids(Monster): \n",
    "        equivalent_to=[\n",
    "            HasWeakness.value(hybridOil) &\n",
    "            HasWeakness.value(silverWeakness)\n",
    "        ]\n",
    "    class Insectoids(Monster): \n",
    "        equivalent_to=[\n",
    "            HasWeakness.value(insectoidOil) &\n",
    "            HasWeakness.value(silverWeakness)\n",
    "        ]\n",
    "    class Elementa(Monster):  \n",
    "        equivalent_to=[\n",
    "            HasWeakness.value(elementaOil) &\n",
    "            HasWeakness.value(silverWeakness)\n",
    "        ]\n",
    "    class Draconids(Monster): \n",
    "        equivalent_to=[\n",
    "            HasWeakness.value(draconidOil) &\n",
    "            HasWeakness.value(silverWeakness)\n",
    "        ]\n",
    "    class Ogroids(Monster): \n",
    "        equivalent_to=[\n",
    "            HasWeakness.value(hybridOil) &\n",
    "            HasWeakness.value(ogroidOil)\n",
    "        ]\n",
    "        \n",
    "    class HighValueLoot(WitcherThing):\n",
    "        equivalent_to =[\n",
    "            Loot &\n",
    "            HasPrice.only(OneOf(list(range(100, 700))))\n",
    "        ]\n",
    "\n",
    "    class LowValueLoot(WitcherThing):\n",
    "        equivalent_to =[\n",
    "            Loot &\n",
    "            HasPrice.only(OneOf(list(range(0, 99))))\n",
    "        ]\n",
    "\n",
    "    class HighValueLootMonster(WitcherThing):\n",
    "        equivalent_to =[\n",
    "            Monster &\n",
    "            DropsLoot.min(1, HighValueLoot)\n",
    "        ]\n",
    "\n",
    "    class LowValueLootMonster(WitcherThing):\n",
    "        equivalent_to=[\n",
    "            Monster &\n",
    "            DropsLoot.min(1, LowValueLoot)\n",
    "        ]\n",
    "\n",
    "    class CommonLootMonster(WitcherThing):\n",
    "        equivalent_to=[\n",
    "            Monster &\n",
    "            DropsLoot.min(1, CommonItem)\n",
    "        ]\n",
    "\n",
    "    class MagicLootMonster(WitcherThing):\n",
    "        equivalent_to=[\n",
    "            Monster &\n",
    "            DropsLoot.min(1, MagicItem)\n",
    "        ]\n"
   ]
  },
  {
   "cell_type": "code",
   "execution_count": 3,
   "metadata": {},
   "outputs": [],
   "source": [
    "with onto:\n",
    "    alghoulBoneMarrow = MasterItem(\"AlghoulBoneMarrow\")\n",
    "    alghoulBoneMarrow.HasPrice = 30\n",
    "\n",
    "    basiliskHide = MagicItem(\"BasiliskHide\")\n",
    "    basiliskHide.HasPrice = 544\n",
    "\n",
    "    basiliskVenom = MasterItem(\"BasiliskVenom\")\n",
    "    basiliskVenom.HasPrice = 45\n",
    "\n",
    "    vampireFang = MagicItem(\"VampireFang\")\n",
    "    vampireFang.HasPrice = 105\n",
    "\n",
    "    leshenResin = MagicItem(\"LeshenResin\")\n",
    "    leshenResin.HasPrice = 51\n",
    "\n",
    "    vampireBlood = MagicItem(\"VampireBlood\")\n",
    "    vampireBlood.HasPrice = 45\n",
    "\n",
    "    vampireSaliva = MasterItem(\"VampireSaliva\")\n",
    "    vampireSaliva.HasPrice = 31\n",
    "\n",
    "    ekimmaraHide = MasterItem(\"EkimmaraHide\")\n",
    "    ekimmaraHide.HasPrice = 294\n",
    "\n",
    "    specterDust = MasterItem(\"SpecterDust\")\n",
    "    specterDust.HasPrice = 35\n",
    "\n",
    "    wolfsLiver = CommonItem(\"WolfsLiver\")\n",
    "    wolfsLiver.HasPrice = 10\n",
    "\n",
    "    griffinFeathers = MagicItem(\"GriffinFeathers\")\n",
    "    griffinFeathers.HasPrice = 60\n",
    "\n",
    "    griffinsEgg = MasterItem(\"GriffinsEgg\")\n",
    "    griffinsEgg.HasPrice = 65\n",
    "    \n",
    "    wyvernEgg = MagicItem(\"WyvernEgg\")\n",
    "    wyvernEgg.HasPrice = 604\n"
   ]
  },
  {
   "cell_type": "code",
   "execution_count": 4,
   "metadata": {},
   "outputs": [],
   "source": [
    "with onto:\n",
    "    class Ekimmara(Vampires):\n",
    "        equivalent_to=[\n",
    "            HasHabitat.value(Cave) &\n",
    "            DropsLoot.value(vampireFang) &\n",
    "            DropsLoot.value(ekimmaraHide)\n",
    "        ]\n",
    "\n",
    "    class Nightwraith(Specters):\n",
    "        equivalent_to=[\n",
    "            HasHabitat.value(Ruins) &\n",
    "            DropsLoot.value(specterDust) \n",
    "        ]\n",
    "\n",
    "    class Griffin(Hybrids):\n",
    "        equivalent_to=[\n",
    "            HasHabitat.value(Ruins) &\n",
    "            DropsLoot.value(griffinFeathers) &\n",
    "            DropsLoot.value(griffinsEgg)\n",
    "        ]\n",
    "    \n",
    "    class Wolf(Beasts):\n",
    "        equivalent_to=[\n",
    "            HasHabitat.value(Forest) &\n",
    "            DropsLoot.value(wolfsLiver)\n",
    "        ]\n",
    "\n",
    "    jennyOfTheWoods = Nightwraith(\"JennyOfTheWoods\")\n",
    "    giantWolf = Wolf(\"giantWolf\")"
   ]
  },
  {
   "cell_type": "code",
   "execution_count": 5,
   "metadata": {},
   "outputs": [],
   "source": [
    "onto.save(file = \"MonsterOntology.owl\", format = \"rdfxml\")"
   ]
  },
  {
   "cell_type": "code",
   "execution_count": 6,
   "metadata": {},
   "outputs": [
    {
     "name": "stdout",
     "output_type": "stream",
     "text": [
      "[]\n"
     ]
    }
   ],
   "source": [
    "print(list(onto.inconsistent_classes()))"
   ]
  },
  {
   "cell_type": "markdown",
   "metadata": {},
   "source": [
    "# Subsumption"
   ]
  },
  {
   "cell_type": "code",
   "execution_count": 7,
   "metadata": {},
   "outputs": [
    {
     "name": "stdout",
     "output_type": "stream",
     "text": [
      "Sign\n",
      "Sword\n",
      "Bomb\n",
      "WitcherArsenal\n",
      "Oil\n"
     ]
    }
   ],
   "source": [
    "for subclass in WitcherArsenal.descendants():\n",
    "    print(subclass.name)"
   ]
  },
  {
   "cell_type": "code",
   "execution_count": 8,
   "metadata": {},
   "outputs": [
    {
     "name": "stderr",
     "output_type": "stream",
     "text": [
      "* Owlready2 * Running HermiT...\n",
      "    java -Xmx2000M -cp c:\\fmi-projects\\MonsterOntology\\.venv\\Lib\\site-packages\\owlready2\\hermit;c:\\fmi-projects\\MonsterOntology\\.venv\\Lib\\site-packages\\owlready2\\hermit\\HermiT.jar org.semanticweb.HermiT.cli.CommandLine -c -O -D -I file:///C:/Users/CCVETA~1/AppData/Local/Temp/tmpj4uuf513\n",
      "* Owlready2 * HermiT took 4.531921863555908 seconds\n",
      "* Owlready * Equivalenting: MonsterOntology.Necrophages MonsterOntology.Specters\n",
      "* Owlready * Equivalenting: MonsterOntology.Specters MonsterOntology.Necrophages\n",
      "* Owlready * Reparenting MonsterOntology.Igni: {MonsterOntology.WitcherThing} => {MonsterOntology.Sign}\n",
      "* Owlready * Reparenting MonsterOntology.Wolf: {MonsterOntology.Beasts} => {MonsterOntology.Beasts, MonsterOntology.CommonLootMonster, MonsterOntology.LowValueLootMonster}\n",
      "* Owlready * Reparenting MonsterOntology.Ekimmara: {MonsterOntology.Vampires} => {MonsterOntology.HighValueLootMonster, MonsterOntology.MagicLootMonster, MonsterOntology.Vampires}\n",
      "* Owlready * Reparenting MonsterOntology.Griffin: {MonsterOntology.Hybrids} => {MonsterOntology.MagicLootMonster, MonsterOntology.Hybrids, MonsterOntology.LowValueLootMonster}\n",
      "* Owlready * Reparenting MonsterOntology.Nightwraith: {MonsterOntology.Specters} => {MonsterOntology.Necrophages, MonsterOntology.LowValueLootMonster}\n",
      "* Owlready * Reparenting MonsterOntology.HighValueLootMonster: {MonsterOntology.WitcherThing} => {MonsterOntology.Monster}\n",
      "* Owlready * Reparenting MonsterOntology.MagicLootMonster: {MonsterOntology.WitcherThing} => {MonsterOntology.Monster}\n",
      "* Owlready * Reparenting MonsterOntology.LowValueLootMonster: {MonsterOntology.WitcherThing} => {MonsterOntology.Monster}\n",
      "* Owlready * Reparenting MonsterOntology.CommonLootMonster: {MonsterOntology.WitcherThing} => {MonsterOntology.Monster}\n",
      "* Owlready * Reparenting MonsterOntology.steelSword: {MonsterOntology.WitcherThing} => {MonsterOntology.Sword}\n",
      "* Owlready * Reparenting MonsterOntology.silverSword: {MonsterOntology.WitcherThing} => {MonsterOntology.Sword}\n",
      "* Owlready * Reparenting MonsterOntology.LowValueLoot: {MonsterOntology.WitcherThing} => {MonsterOntology.Loot}\n",
      "* Owlready * Reparenting MonsterOntology.HighValueLoot: {MonsterOntology.WitcherThing} => {MonsterOntology.Loot}\n",
      "* Owlready * Reparenting MonsterOntology.MaterialWeakness: {MonsterOntology.WitcherThing} => {MonsterOntology.Weakness, MonsterOntology.WitcherArsenal}\n",
      "* Owlready * Reparenting MonsterOntology.SteelWeakness: {MonsterOntology.WitcherThing} => {MonsterOntology.MaterialWeakness}\n",
      "* Owlready * Reparenting MonsterOntology.SilverWeakness: {MonsterOntology.WitcherThing} => {MonsterOntology.MaterialWeakness}\n",
      "* Owlready * Reparenting MonsterOntology.GriffinsEgg: {MonsterOntology.MasterItem} => {MonsterOntology.LowValueLoot, MonsterOntology.MasterItem}\n",
      "* Owlready * Reparenting MonsterOntology.beastOil: {MonsterOntology.Oil} => {MonsterOntology.Weakness, MonsterOntology.Oil}\n",
      "* Owlready * Reparenting MonsterOntology.VampireBlood: {MonsterOntology.MagicItem} => {MonsterOntology.LowValueLoot, MonsterOntology.MagicItem}\n",
      "* Owlready * Reparenting MonsterOntology.GriffinFeathers: {MonsterOntology.MagicItem} => {MonsterOntology.LowValueLoot, MonsterOntology.MagicItem}\n",
      "* Owlready * Reparenting MonsterOntology.LeshenResin: {MonsterOntology.MagicItem} => {MonsterOntology.LowValueLoot, MonsterOntology.MagicItem}\n",
      "* Owlready * Reparenting MonsterOntology.AlghoulBoneMarrow: {MonsterOntology.MasterItem} => {MonsterOntology.LowValueLoot, MonsterOntology.MasterItem}\n",
      "* Owlready * Reparenting MonsterOntology.WyvernEgg: {MonsterOntology.MagicItem} => {MonsterOntology.HighValueLoot, MonsterOntology.MagicItem}\n",
      "* Owlready * Reparenting MonsterOntology.EkimmaraHide: {MonsterOntology.MasterItem} => {MonsterOntology.HighValueLoot, MonsterOntology.MasterItem}\n",
      "* Owlready * Reparenting MonsterOntology.BasiliskHide: {MonsterOntology.MagicItem} => {MonsterOntology.HighValueLoot, MonsterOntology.MagicItem}\n",
      "* Owlready * Reparenting MonsterOntology.VampireFang: {MonsterOntology.MagicItem} => {MonsterOntology.HighValueLoot, MonsterOntology.MagicItem}\n",
      "* Owlready * Reparenting MonsterOntology.SpecterDust: {MonsterOntology.MasterItem} => {MonsterOntology.LowValueLoot, MonsterOntology.MasterItem}\n",
      "* Owlready * Reparenting MonsterOntology.WolfsLiver: {MonsterOntology.CommonItem} => {MonsterOntology.LowValueLoot, MonsterOntology.CommonItem}\n",
      "* Owlready * Reparenting MonsterOntology.BasiliskVenom: {MonsterOntology.MasterItem} => {MonsterOntology.LowValueLoot, MonsterOntology.MasterItem}\n",
      "* Owlready * Reparenting MonsterOntology.specterOil: {MonsterOntology.Oil} => {MonsterOntology.Weakness, MonsterOntology.Oil}\n",
      "* Owlready * Reparenting MonsterOntology.VampireSaliva: {MonsterOntology.MasterItem} => {MonsterOntology.LowValueLoot, MonsterOntology.MasterItem}\n",
      "* Owlready * (NB: only changes on entities loaded in Python are shown, other changes are done but not listed)\n"
     ]
    }
   ],
   "source": [
    "with onto:\n",
    "    sync_reasoner()"
   ]
  },
  {
   "cell_type": "code",
   "execution_count": 9,
   "metadata": {},
   "outputs": [
    {
     "name": "stdout",
     "output_type": "stream",
     "text": [
      "Sign\n",
      "steelSword\n",
      "silverSword\n",
      "Sword\n",
      "SteelWeakness\n",
      "Igni\n",
      "Bomb\n",
      "WitcherArsenal\n",
      "Oil\n",
      "SilverWeakness\n",
      "MaterialWeakness\n"
     ]
    }
   ],
   "source": [
    "for subclass in WitcherArsenal.descendants():\n",
    "    print(subclass.name)"
   ]
  },
  {
   "cell_type": "markdown",
   "metadata": {},
   "source": [
    "# Classification"
   ]
  },
  {
   "cell_type": "code",
   "execution_count": 10,
   "metadata": {},
   "outputs": [],
   "source": [
    "with onto:\n",
    "    class MasterLootMonster(WitcherThing):\n",
    "        equivalent_to =[\n",
    "            Monster &\n",
    "            DropsLoot.min(1, MasterItem)\n",
    "        ]"
   ]
  },
  {
   "cell_type": "code",
   "execution_count": 11,
   "metadata": {},
   "outputs": [
    {
     "name": "stdout",
     "output_type": "stream",
     "text": [
      "[MonsterOntology.WitcherThing]\n"
     ]
    }
   ],
   "source": [
    "print(onto.get_parents_of(MasterLootMonster))"
   ]
  },
  {
   "cell_type": "code",
   "execution_count": 12,
   "metadata": {},
   "outputs": [
    {
     "name": "stdout",
     "output_type": "stream",
     "text": [
      "[]\n"
     ]
    }
   ],
   "source": [
    "print(onto.get_children_of(MasterLootMonster))"
   ]
  },
  {
   "cell_type": "code",
   "execution_count": 13,
   "metadata": {},
   "outputs": [
    {
     "name": "stderr",
     "output_type": "stream",
     "text": [
      "* Owlready2 * Running HermiT...\n",
      "    java -Xmx2000M -cp c:\\fmi-projects\\MonsterOntology\\.venv\\Lib\\site-packages\\owlready2\\hermit;c:\\fmi-projects\\MonsterOntology\\.venv\\Lib\\site-packages\\owlready2\\hermit\\HermiT.jar org.semanticweb.HermiT.cli.CommandLine -c -O -D -I file:///C:/Users/CCVETA~1/AppData/Local/Temp/tmp7htr1d7j\n",
      "* Owlready2 * HermiT took 3.7183358669281006 seconds\n",
      "* Owlready * Equivalenting: MonsterOntology.Necrophages MonsterOntology.Specters\n",
      "* Owlready * Equivalenting: MonsterOntology.Specters MonsterOntology.Necrophages\n",
      "* Owlready * Reparenting MonsterOntology.Ekimmara: {MonsterOntology.HighValueLootMonster, MonsterOntology.MagicLootMonster, MonsterOntology.Vampires} => {MonsterOntology.MagicLootMonster, MonsterOntology.MasterLootMonster, MonsterOntology.HighValueLootMonster, MonsterOntology.Vampires}\n",
      "* Owlready * Reparenting MonsterOntology.Griffin: {MonsterOntology.Hybrids, MonsterOntology.MagicLootMonster, MonsterOntology.LowValueLootMonster} => {MonsterOntology.MagicLootMonster, MonsterOntology.MasterLootMonster, MonsterOntology.Hybrids, MonsterOntology.LowValueLootMonster}\n",
      "* Owlready * Reparenting MonsterOntology.Nightwraith: {MonsterOntology.Necrophages, MonsterOntology.LowValueLootMonster} => {MonsterOntology.MasterLootMonster, MonsterOntology.Necrophages, MonsterOntology.LowValueLootMonster}\n",
      "* Owlready * Reparenting MonsterOntology.MasterLootMonster: {MonsterOntology.WitcherThing} => {MonsterOntology.Monster}\n",
      "* Owlready * (NB: only changes on entities loaded in Python are shown, other changes are done but not listed)\n"
     ]
    }
   ],
   "source": [
    "with onto:\n",
    "    sync_reasoner()"
   ]
  },
  {
   "cell_type": "code",
   "execution_count": 14,
   "metadata": {},
   "outputs": [
    {
     "name": "stdout",
     "output_type": "stream",
     "text": [
      "[MonsterOntology.WitcherThing, MonsterOntology.Monster]\n"
     ]
    }
   ],
   "source": [
    "print(onto.get_parents_of(MasterLootMonster))"
   ]
  },
  {
   "cell_type": "code",
   "execution_count": 15,
   "metadata": {},
   "outputs": [
    {
     "name": "stdout",
     "output_type": "stream",
     "text": [
      "[MonsterOntology.Ekimmara, MonsterOntology.Nightwraith, MonsterOntology.Griffin]\n"
     ]
    }
   ],
   "source": [
    "print(onto.get_children_of(MasterLootMonster))"
   ]
  },
  {
   "cell_type": "code",
   "execution_count": 16,
   "metadata": {},
   "outputs": [
    {
     "name": "stdout",
     "output_type": "stream",
     "text": [
      "Nightwraith\n",
      "MasterLootMonster\n",
      "Ekimmara\n",
      "Griffin\n"
     ]
    }
   ],
   "source": [
    "for subclass in MasterLootMonster.descendants():\n",
    "    print(subclass.name)"
   ]
  }
 ],
 "metadata": {
  "kernelspec": {
   "display_name": "dlenv",
   "language": "python",
   "name": "python3"
  },
  "language_info": {
   "codemirror_mode": {
    "name": "ipython",
    "version": 3
   },
   "file_extension": ".py",
   "mimetype": "text/x-python",
   "name": "python",
   "nbconvert_exporter": "python",
   "pygments_lexer": "ipython3",
   "version": "3.12.7"
  }
 },
 "nbformat": 4,
 "nbformat_minor": 2
}
